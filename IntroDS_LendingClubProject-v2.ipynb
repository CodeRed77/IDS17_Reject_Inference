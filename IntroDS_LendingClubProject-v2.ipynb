{
 "cells": [
  {
   "cell_type": "markdown",
   "metadata": {},
   "source": [
    "# Lending Club Project\n",
    "### What is the impact of using biased data when Predicting Probability of Default?\n"
   ]
  },
  {
   "cell_type": "code",
   "execution_count": 1,
   "metadata": {
    "collapsed": false
   },
   "outputs": [],
   "source": [
    "#data handling, model creation/evaluation\n",
    "import pandas as pd\n",
    "import numpy as np\n",
    "from sklearn.model_selection import train_test_split, cross_val_score\n",
    "from sklearn import metrics\n",
    "from sklearn.linear_model import LogisticRegression\n",
    "from sklearn.ensemble import RandomForestClassifier\n",
    "from scipy import stats\n",
    "from sklearn.metrics import roc_curve, auc\n",
    "from matplotlib.ticker import FuncFormatter\n",
    "import matplotlib\n",
    "import matplotlib.pyplot as plt\n",
    "\n",
    "\n",
    "#make it so that we only show first 4 decimals for floats\n",
    "np.set_printoptions(precision=4,suppress=True)\n",
    "\n",
    "# visualization\n",
    "%matplotlib inline\n",
    "import seaborn as sns\n",
    "\n",
    "# http://analytics.ncsu.edu/sesug/2008/ST-160.pdf"
   ]
  },
  {
   "cell_type": "code",
   "execution_count": 2,
   "metadata": {
    "collapsed": false
   },
   "outputs": [],
   "source": [
    "# Import Accept data\n",
    "AcceptData_Raw = pd.read_csv(\"../Lending_Club_Project/data/LoanStats.csv\", skiprows=1, low_memory=False)\n",
    "\n",
    "# Import Reject data\n",
    "#https://web.archive.org/web/20111101213447/https://www.lendingclub.com/info/download-data.action\n",
    "RejData_Raw = pd.read_csv(\"../Lending_Club_Project/data/rejected_2007_to_2016.csv\")"
   ]
  },
  {
   "cell_type": "code",
   "execution_count": 3,
   "metadata": {
    "collapsed": false
   },
   "outputs": [],
   "source": [
    "# Create a copy of the dataset to modify, so do not to reimport original df\n",
    "AcceptData = AcceptData_Raw.copy()\n",
    "RejData = RejData_Raw.copy()"
   ]
  },
  {
   "cell_type": "code",
   "execution_count": 4,
   "metadata": {
    "collapsed": false
   },
   "outputs": [],
   "source": [
    "# Clean Column Names - remove blanks, set lowercase, etc.\n",
    "AcceptData.columns = AcceptData.columns.str.lower().str.replace(\" \",\"_\").str.replace(\".\",\"\").str.replace(\"(\", \"\").str.replace(\")\", \"\").str.replace(\"-\",\"\")\n",
    "RejData.columns = RejData.columns.str.lower().str.replace(\" \",\"_\").str.replace(\".\",\"\").str.replace(\"(\", \"\").str.replace(\")\", \"\").str.replace(\"-\",\"\")\n",
    "\n"
   ]
  },
  {
   "cell_type": "code",
   "execution_count": 5,
   "metadata": {
    "collapsed": false
   },
   "outputs": [
    {
     "name": "stdout",
     "output_type": "stream",
     "text": [
      "   amount_requested application_date                        loan_title  \\\n",
      "0            1000.0       2007-05-26  Wedding Covered but No Honeymoon   \n",
      "1            1000.0       2007-05-26                Consolidating Debt   \n",
      "2           11000.0       2007-05-27       Want to consolidate my debt   \n",
      "3            6000.0       2007-05-27                           waksman   \n",
      "4            1500.0       2007-05-27                            mdrigo   \n",
      "\n",
      "   risk_score debttoincome_ratio zip_code state employment_length  policy_code  \n",
      "0       693.0                10%    481xx    NM           4 years            0  \n",
      "1       703.0                10%    010xx    MA          < 1 year            0  \n",
      "2       715.0                10%    212xx    MD            1 year            0  \n",
      "3       698.0             38.64%    017xx    MA          < 1 year            0  \n",
      "4       509.0              9.43%    209xx    MD          < 1 year            0  \n",
      "amount_requested             float64\n",
      "application_date      datetime64[ns]\n",
      "loan_title                    object\n",
      "risk_score                   float64\n",
      "debttoincome_ratio            object\n",
      "zip_code                      object\n",
      "state                         object\n",
      "employment_length             object\n",
      "policy_code                    int64\n",
      "dtype: object\n"
     ]
    }
   ],
   "source": [
    "# Basic data cleaning for Date Variables\n",
    "RejData.application_date = pd.to_datetime(RejData.application_date, format=\"%Y-%m-%d\")\n",
    "AcceptData.application_date = pd.to_datetime(AcceptData.application_date, format=\"%Y-%m-%d\")\n",
    "\n",
    "print RejData.head()\n",
    "\n",
    "print RejData.dtypes"
   ]
  },
  {
   "cell_type": "code",
   "execution_count": 6,
   "metadata": {
    "collapsed": false
   },
   "outputs": [
    {
     "data": {
      "text/plain": [
       "Index([u'amount_requested', u'application_date', u'loan_title', u'risk_score',\n",
       "       u'debttoincome_ratio', u'zip_code', u'state', u'employment_length',\n",
       "       u'policy_code'],\n",
       "      dtype='object')"
      ]
     },
     "execution_count": 6,
     "metadata": {},
     "output_type": "execute_result"
    }
   ],
   "source": [
    "RejData.columns"
   ]
  },
  {
   "cell_type": "code",
   "execution_count": 7,
   "metadata": {
    "collapsed": false
   },
   "outputs": [
    {
     "data": {
      "text/plain": [
       "Index([u'loan_id', u'amount_requested', u'amount_funded_by_investors',\n",
       "       u'interest_rate', u'loan_length', u'application_date',\n",
       "       u'application_expiration_date', u'issued_date', u'credit_grade',\n",
       "       u'loan_title', u'loan_purpose', u'loan_description', u'monthly_payment',\n",
       "       u'status', u'total_amount_funded', u'debttoincome_ratio',\n",
       "       u'remaining_principal_funded_by_investors',\n",
       "       u'payments_to_date_funded_by_investors', u'remaining_principal',\n",
       "       u'payments_to_date', u'recoveries', u'collection_recovery_fee',\n",
       "       u'screen_name', u'city', u'state', u'home_ownership', u'monthly_income',\n",
       "       u'fico_range', u'earliest_credit_line', u'open_credit_lines',\n",
       "       u'total_credit_lines', u'revolving_credit_balance',\n",
       "       u'revolving_line_utilization', u'inquiries_in_the_last_6_months',\n",
       "       u'accounts_now_delinquent', u'delinquent_amount',\n",
       "       u'delinquencies_last_2_yrs', u'months_since_last_delinquency',\n",
       "       u'public_records_on_file', u'months_since_last_record', u'education',\n",
       "       u'employment_length', u'code', u'initial_listing_status',\n",
       "       u'policy_code'],\n",
       "      dtype='object')"
      ]
     },
     "execution_count": 7,
     "metadata": {},
     "output_type": "execute_result"
    }
   ],
   "source": [
    "AcceptData.columns"
   ]
  },
  {
   "cell_type": "code",
   "execution_count": 8,
   "metadata": {
    "collapsed": false
   },
   "outputs": [
    {
     "data": {
      "text/plain": [
       "amount_requested             float64\n",
       "application_date      datetime64[ns]\n",
       "loan_title                    object\n",
       "risk_score                   float64\n",
       "debttoincome_ratio            object\n",
       "zip_code                      object\n",
       "state                         object\n",
       "employment_length             object\n",
       "policy_code                    int64\n",
       "dtype: object"
      ]
     },
     "execution_count": 8,
     "metadata": {},
     "output_type": "execute_result"
    }
   ],
   "source": [
    "RejData.shape\n",
    "RejData.dtypes"
   ]
  },
  {
   "cell_type": "code",
   "execution_count": 9,
   "metadata": {
    "collapsed": false
   },
   "outputs": [
    {
     "data": {
      "text/plain": [
       "(329521, 45)"
      ]
     },
     "execution_count": 9,
     "metadata": {},
     "output_type": "execute_result"
    }
   ],
   "source": [
    "AcceptData.shape"
   ]
  },
  {
   "cell_type": "code",
   "execution_count": 10,
   "metadata": {
    "collapsed": false
   },
   "outputs": [
    {
     "data": {
      "text/plain": [
       "36 months    252623\n",
       "60 months     76897\n",
       "Name: loan_length, dtype: int64"
      ]
     },
     "execution_count": 10,
     "metadata": {},
     "output_type": "execute_result"
    }
   ],
   "source": [
    "# We will only keep loans of 36 Month terms for full aging\n",
    "\n",
    "AcceptData.loan_length.value_counts()"
   ]
  },
  {
   "cell_type": "code",
   "execution_count": 11,
   "metadata": {
    "collapsed": false
   },
   "outputs": [
    {
     "data": {
      "text/html": [
       "<div>\n",
       "<table border=\"1\" class=\"dataframe\">\n",
       "  <thead>\n",
       "    <tr style=\"text-align: right;\">\n",
       "      <th></th>\n",
       "      <th>Rej_Ind</th>\n",
       "      <th>accounts_now_delinquent</th>\n",
       "      <th>amount_funded_by_investors</th>\n",
       "      <th>amount_requested</th>\n",
       "      <th>application_date</th>\n",
       "      <th>application_expiration_date</th>\n",
       "      <th>city</th>\n",
       "      <th>code</th>\n",
       "      <th>collection_recovery_fee</th>\n",
       "      <th>credit_grade</th>\n",
       "      <th>...</th>\n",
       "      <th>remaining_principal_funded_by_investors</th>\n",
       "      <th>revolving_credit_balance</th>\n",
       "      <th>revolving_line_utilization</th>\n",
       "      <th>risk_score</th>\n",
       "      <th>screen_name</th>\n",
       "      <th>state</th>\n",
       "      <th>status</th>\n",
       "      <th>total_amount_funded</th>\n",
       "      <th>total_credit_lines</th>\n",
       "      <th>zip_code</th>\n",
       "    </tr>\n",
       "  </thead>\n",
       "  <tbody>\n",
       "    <tr>\n",
       "      <th>0</th>\n",
       "      <td>0</td>\n",
       "      <td>0.0</td>\n",
       "      <td>800.0</td>\n",
       "      <td>7500.0</td>\n",
       "      <td>2007-06-07</td>\n",
       "      <td>2007-06-21</td>\n",
       "      <td>Attleboro</td>\n",
       "      <td>NaN</td>\n",
       "      <td>0.0</td>\n",
       "      <td>null</td>\n",
       "      <td>...</td>\n",
       "      <td>0.0</td>\n",
       "      <td>4175.0</td>\n",
       "      <td>51.5%</td>\n",
       "      <td>NaN</td>\n",
       "      <td>Kingtrite</td>\n",
       "      <td>MA</td>\n",
       "      <td>Fully Paid</td>\n",
       "      <td>7500.0</td>\n",
       "      <td>8.0</td>\n",
       "      <td>NaN</td>\n",
       "    </tr>\n",
       "    <tr>\n",
       "      <th>1</th>\n",
       "      <td>0</td>\n",
       "      <td>0.0</td>\n",
       "      <td>650.0</td>\n",
       "      <td>5000.0</td>\n",
       "      <td>2007-06-12</td>\n",
       "      <td>2007-06-26</td>\n",
       "      <td>Rockville</td>\n",
       "      <td>NaN</td>\n",
       "      <td>0.0</td>\n",
       "      <td>null</td>\n",
       "      <td>...</td>\n",
       "      <td>0.0</td>\n",
       "      <td>85607.0</td>\n",
       "      <td>0.7%</td>\n",
       "      <td>NaN</td>\n",
       "      <td>Laguna</td>\n",
       "      <td>MD</td>\n",
       "      <td>Fully Paid</td>\n",
       "      <td>5000.0</td>\n",
       "      <td>26.0</td>\n",
       "      <td>NaN</td>\n",
       "    </tr>\n",
       "    <tr>\n",
       "      <th>2</th>\n",
       "      <td>0</td>\n",
       "      <td>0.0</td>\n",
       "      <td>1325.0</td>\n",
       "      <td>5000.0</td>\n",
       "      <td>2007-06-12</td>\n",
       "      <td>2007-06-26</td>\n",
       "      <td>Framingham</td>\n",
       "      <td>NaN</td>\n",
       "      <td>0.0</td>\n",
       "      <td>null</td>\n",
       "      <td>...</td>\n",
       "      <td>0.0</td>\n",
       "      <td>9698.0</td>\n",
       "      <td>19.4%</td>\n",
       "      <td>NaN</td>\n",
       "      <td>MGDesousa</td>\n",
       "      <td>MA</td>\n",
       "      <td>Fully Paid</td>\n",
       "      <td>5000.0</td>\n",
       "      <td>20.0</td>\n",
       "      <td>NaN</td>\n",
       "    </tr>\n",
       "    <tr>\n",
       "      <th>3</th>\n",
       "      <td>0</td>\n",
       "      <td>0.0</td>\n",
       "      <td>875.0</td>\n",
       "      <td>8500.0</td>\n",
       "      <td>2007-06-13</td>\n",
       "      <td>2007-06-27</td>\n",
       "      <td>Greensboro</td>\n",
       "      <td>NaN</td>\n",
       "      <td>0.0</td>\n",
       "      <td>null</td>\n",
       "      <td>...</td>\n",
       "      <td>0.0</td>\n",
       "      <td>8847.0</td>\n",
       "      <td>26.9%</td>\n",
       "      <td>NaN</td>\n",
       "      <td>Radiothermal</td>\n",
       "      <td>NC</td>\n",
       "      <td>Fully Paid</td>\n",
       "      <td>8500.0</td>\n",
       "      <td>9.0</td>\n",
       "      <td>NaN</td>\n",
       "    </tr>\n",
       "    <tr>\n",
       "      <th>4</th>\n",
       "      <td>0</td>\n",
       "      <td>0.0</td>\n",
       "      <td>1075.0</td>\n",
       "      <td>2500.0</td>\n",
       "      <td>2007-06-15</td>\n",
       "      <td>2007-06-29</td>\n",
       "      <td>Lakewood</td>\n",
       "      <td>NaN</td>\n",
       "      <td>0.0</td>\n",
       "      <td>null</td>\n",
       "      <td>...</td>\n",
       "      <td>0.0</td>\n",
       "      <td>7274.0</td>\n",
       "      <td>13.1%</td>\n",
       "      <td>NaN</td>\n",
       "      <td>PMJ7671</td>\n",
       "      <td>CO</td>\n",
       "      <td>Fully Paid</td>\n",
       "      <td>2500.0</td>\n",
       "      <td>40.0</td>\n",
       "      <td>NaN</td>\n",
       "    </tr>\n",
       "  </tbody>\n",
       "</table>\n",
       "<p>5 rows × 48 columns</p>\n",
       "</div>"
      ],
      "text/plain": [
       "   Rej_Ind  accounts_now_delinquent  amount_funded_by_investors  \\\n",
       "0        0                      0.0                       800.0   \n",
       "1        0                      0.0                       650.0   \n",
       "2        0                      0.0                      1325.0   \n",
       "3        0                      0.0                       875.0   \n",
       "4        0                      0.0                      1075.0   \n",
       "\n",
       "   amount_requested application_date application_expiration_date        city  \\\n",
       "0            7500.0       2007-06-07                  2007-06-21   Attleboro   \n",
       "1            5000.0       2007-06-12                  2007-06-26   Rockville   \n",
       "2            5000.0       2007-06-12                  2007-06-26  Framingham   \n",
       "3            8500.0       2007-06-13                  2007-06-27  Greensboro   \n",
       "4            2500.0       2007-06-15                  2007-06-29    Lakewood   \n",
       "\n",
       "   code  collection_recovery_fee credit_grade    ...     \\\n",
       "0   NaN                      0.0         null    ...      \n",
       "1   NaN                      0.0         null    ...      \n",
       "2   NaN                      0.0         null    ...      \n",
       "3   NaN                      0.0         null    ...      \n",
       "4   NaN                      0.0         null    ...      \n",
       "\n",
       "  remaining_principal_funded_by_investors  revolving_credit_balance  \\\n",
       "0                                     0.0                    4175.0   \n",
       "1                                     0.0                   85607.0   \n",
       "2                                     0.0                    9698.0   \n",
       "3                                     0.0                    8847.0   \n",
       "4                                     0.0                    7274.0   \n",
       "\n",
       "   revolving_line_utilization risk_score   screen_name state      status  \\\n",
       "0                       51.5%        NaN     Kingtrite    MA  Fully Paid   \n",
       "1                        0.7%        NaN        Laguna    MD  Fully Paid   \n",
       "2                       19.4%        NaN     MGDesousa    MA  Fully Paid   \n",
       "3                       26.9%        NaN  Radiothermal    NC  Fully Paid   \n",
       "4                       13.1%        NaN       PMJ7671    CO  Fully Paid   \n",
       "\n",
       "  total_amount_funded total_credit_lines  zip_code  \n",
       "0              7500.0                8.0       NaN  \n",
       "1              5000.0               26.0       NaN  \n",
       "2              5000.0               20.0       NaN  \n",
       "3              8500.0                9.0       NaN  \n",
       "4              2500.0               40.0       NaN  \n",
       "\n",
       "[5 rows x 48 columns]"
      ]
     },
     "execution_count": 11,
     "metadata": {},
     "output_type": "execute_result"
    }
   ],
   "source": [
    "# Concatenate the Two DFs with Diff Shapes\n",
    "# First create file indicator with Rej = \"Reject\"\n",
    "AcceptData[\"Rej_Ind\"] = 0\n",
    "RejData[\"Rej_Ind\"] = 1\n",
    "\n",
    "# stack the DataFrames on top of each other\n",
    "Full_data = pd.concat([AcceptData, RejData], axis=0)\n",
    "Full_data.head()"
   ]
  },
  {
   "cell_type": "code",
   "execution_count": 12,
   "metadata": {
    "collapsed": false
   },
   "outputs": [
    {
     "data": {
      "text/html": [
       "<div>\n",
       "<table border=\"1\" class=\"dataframe\">\n",
       "  <thead>\n",
       "    <tr style=\"text-align: right;\">\n",
       "      <th></th>\n",
       "      <th>Rej_Ind</th>\n",
       "      <th>accounts_now_delinquent</th>\n",
       "      <th>amount_funded_by_investors</th>\n",
       "      <th>amount_requested</th>\n",
       "      <th>application_date</th>\n",
       "      <th>application_expiration_date</th>\n",
       "      <th>city</th>\n",
       "      <th>code</th>\n",
       "      <th>collection_recovery_fee</th>\n",
       "      <th>credit_grade</th>\n",
       "      <th>...</th>\n",
       "      <th>remaining_principal_funded_by_investors</th>\n",
       "      <th>revolving_credit_balance</th>\n",
       "      <th>revolving_line_utilization</th>\n",
       "      <th>risk_score</th>\n",
       "      <th>screen_name</th>\n",
       "      <th>state</th>\n",
       "      <th>status</th>\n",
       "      <th>total_amount_funded</th>\n",
       "      <th>total_credit_lines</th>\n",
       "      <th>zip_code</th>\n",
       "    </tr>\n",
       "  </thead>\n",
       "  <tbody>\n",
       "    <tr>\n",
       "      <th>11079381</th>\n",
       "      <td>1</td>\n",
       "      <td>NaN</td>\n",
       "      <td>NaN</td>\n",
       "      <td>10000.0</td>\n",
       "      <td>2016-12-31</td>\n",
       "      <td>NaN</td>\n",
       "      <td>NaN</td>\n",
       "      <td>NaN</td>\n",
       "      <td>NaN</td>\n",
       "      <td>NaN</td>\n",
       "      <td>...</td>\n",
       "      <td>NaN</td>\n",
       "      <td>NaN</td>\n",
       "      <td>NaN</td>\n",
       "      <td>590.0</td>\n",
       "      <td>NaN</td>\n",
       "      <td>OH</td>\n",
       "      <td>NaN</td>\n",
       "      <td>NaN</td>\n",
       "      <td>NaN</td>\n",
       "      <td>441xx</td>\n",
       "    </tr>\n",
       "    <tr>\n",
       "      <th>11079382</th>\n",
       "      <td>1</td>\n",
       "      <td>NaN</td>\n",
       "      <td>NaN</td>\n",
       "      <td>10000.0</td>\n",
       "      <td>2016-12-31</td>\n",
       "      <td>NaN</td>\n",
       "      <td>NaN</td>\n",
       "      <td>NaN</td>\n",
       "      <td>NaN</td>\n",
       "      <td>NaN</td>\n",
       "      <td>...</td>\n",
       "      <td>NaN</td>\n",
       "      <td>NaN</td>\n",
       "      <td>NaN</td>\n",
       "      <td>NaN</td>\n",
       "      <td>NaN</td>\n",
       "      <td>MD</td>\n",
       "      <td>NaN</td>\n",
       "      <td>NaN</td>\n",
       "      <td>NaN</td>\n",
       "      <td>207xx</td>\n",
       "    </tr>\n",
       "    <tr>\n",
       "      <th>11079383</th>\n",
       "      <td>1</td>\n",
       "      <td>NaN</td>\n",
       "      <td>NaN</td>\n",
       "      <td>1200.0</td>\n",
       "      <td>2016-12-31</td>\n",
       "      <td>NaN</td>\n",
       "      <td>NaN</td>\n",
       "      <td>NaN</td>\n",
       "      <td>NaN</td>\n",
       "      <td>NaN</td>\n",
       "      <td>...</td>\n",
       "      <td>NaN</td>\n",
       "      <td>NaN</td>\n",
       "      <td>NaN</td>\n",
       "      <td>686.0</td>\n",
       "      <td>NaN</td>\n",
       "      <td>CA</td>\n",
       "      <td>NaN</td>\n",
       "      <td>NaN</td>\n",
       "      <td>NaN</td>\n",
       "      <td>914xx</td>\n",
       "    </tr>\n",
       "    <tr>\n",
       "      <th>11079384</th>\n",
       "      <td>1</td>\n",
       "      <td>NaN</td>\n",
       "      <td>NaN</td>\n",
       "      <td>25000.0</td>\n",
       "      <td>2016-12-31</td>\n",
       "      <td>NaN</td>\n",
       "      <td>NaN</td>\n",
       "      <td>NaN</td>\n",
       "      <td>NaN</td>\n",
       "      <td>NaN</td>\n",
       "      <td>...</td>\n",
       "      <td>NaN</td>\n",
       "      <td>NaN</td>\n",
       "      <td>NaN</td>\n",
       "      <td>NaN</td>\n",
       "      <td>NaN</td>\n",
       "      <td>NM</td>\n",
       "      <td>NaN</td>\n",
       "      <td>NaN</td>\n",
       "      <td>NaN</td>\n",
       "      <td>880xx</td>\n",
       "    </tr>\n",
       "    <tr>\n",
       "      <th>11079385</th>\n",
       "      <td>1</td>\n",
       "      <td>NaN</td>\n",
       "      <td>NaN</td>\n",
       "      <td>15000.0</td>\n",
       "      <td>2016-12-31</td>\n",
       "      <td>NaN</td>\n",
       "      <td>NaN</td>\n",
       "      <td>NaN</td>\n",
       "      <td>NaN</td>\n",
       "      <td>NaN</td>\n",
       "      <td>...</td>\n",
       "      <td>NaN</td>\n",
       "      <td>NaN</td>\n",
       "      <td>NaN</td>\n",
       "      <td>684.0</td>\n",
       "      <td>NaN</td>\n",
       "      <td>NY</td>\n",
       "      <td>NaN</td>\n",
       "      <td>NaN</td>\n",
       "      <td>NaN</td>\n",
       "      <td>113xx</td>\n",
       "    </tr>\n",
       "  </tbody>\n",
       "</table>\n",
       "<p>5 rows × 48 columns</p>\n",
       "</div>"
      ],
      "text/plain": [
       "          Rej_Ind  accounts_now_delinquent  amount_funded_by_investors  \\\n",
       "11079381        1                      NaN                         NaN   \n",
       "11079382        1                      NaN                         NaN   \n",
       "11079383        1                      NaN                         NaN   \n",
       "11079384        1                      NaN                         NaN   \n",
       "11079385        1                      NaN                         NaN   \n",
       "\n",
       "          amount_requested application_date application_expiration_date city  \\\n",
       "11079381           10000.0       2016-12-31                         NaN  NaN   \n",
       "11079382           10000.0       2016-12-31                         NaN  NaN   \n",
       "11079383            1200.0       2016-12-31                         NaN  NaN   \n",
       "11079384           25000.0       2016-12-31                         NaN  NaN   \n",
       "11079385           15000.0       2016-12-31                         NaN  NaN   \n",
       "\n",
       "          code  collection_recovery_fee credit_grade    ...     \\\n",
       "11079381   NaN                      NaN          NaN    ...      \n",
       "11079382   NaN                      NaN          NaN    ...      \n",
       "11079383   NaN                      NaN          NaN    ...      \n",
       "11079384   NaN                      NaN          NaN    ...      \n",
       "11079385   NaN                      NaN          NaN    ...      \n",
       "\n",
       "         remaining_principal_funded_by_investors  revolving_credit_balance  \\\n",
       "11079381                                     NaN                       NaN   \n",
       "11079382                                     NaN                       NaN   \n",
       "11079383                                     NaN                       NaN   \n",
       "11079384                                     NaN                       NaN   \n",
       "11079385                                     NaN                       NaN   \n",
       "\n",
       "          revolving_line_utilization risk_score screen_name state status  \\\n",
       "11079381                         NaN      590.0         NaN    OH    NaN   \n",
       "11079382                         NaN        NaN         NaN    MD    NaN   \n",
       "11079383                         NaN      686.0         NaN    CA    NaN   \n",
       "11079384                         NaN        NaN         NaN    NM    NaN   \n",
       "11079385                         NaN      684.0         NaN    NY    NaN   \n",
       "\n",
       "         total_amount_funded total_credit_lines  zip_code  \n",
       "11079381                 NaN                NaN     441xx  \n",
       "11079382                 NaN                NaN     207xx  \n",
       "11079383                 NaN                NaN     914xx  \n",
       "11079384                 NaN                NaN     880xx  \n",
       "11079385                 NaN                NaN     113xx  \n",
       "\n",
       "[5 rows x 48 columns]"
      ]
     },
     "execution_count": 12,
     "metadata": {},
     "output_type": "execute_result"
    }
   ],
   "source": [
    "Full_data.tail()"
   ]
  },
  {
   "cell_type": "code",
   "execution_count": 13,
   "metadata": {
    "collapsed": false
   },
   "outputs": [
    {
     "name": "stdout",
     "output_type": "stream",
     "text": [
      "Accept Data shape:  (329521, 46)\n",
      "Rej Data shape:  (11079386, 10)\n",
      "Combined Data shape:  (11408907, 48)\n",
      "Reject Flag Count:  1    11079386\n",
      "0      329521\n",
      "Name: Rej_Ind, dtype: int64\n"
     ]
    }
   ],
   "source": [
    "print \"Accept Data shape: \", AcceptData.shape\n",
    "print \"Rej Data shape: \", RejData.shape\n",
    "print \"Combined Data shape: \", Full_data.shape\n",
    "\n",
    "# sanity check\n",
    "print \"Reject Flag Count: \", Full_data.Rej_Ind.value_counts()\n",
    "\n",
    "#vertical_stack.describe()"
   ]
  },
  {
   "cell_type": "code",
   "execution_count": 15,
   "metadata": {
    "collapsed": false
   },
   "outputs": [],
   "source": [
    "#AcceptData.fico_range.value_counts(dropna=False)"
   ]
  },
  {
   "cell_type": "code",
   "execution_count": 16,
   "metadata": {
    "collapsed": false
   },
   "outputs": [],
   "source": [
    "Full_data[\"app_year\"] = Full_data.application_date.dt.year"
   ]
  },
  {
   "cell_type": "code",
   "execution_count": 17,
   "metadata": {
    "collapsed": false
   },
   "outputs": [
    {
     "data": {
      "text/html": [
       "<div>\n",
       "<table border=\"1\" class=\"dataframe\">\n",
       "  <thead>\n",
       "    <tr style=\"text-align: right;\">\n",
       "      <th></th>\n",
       "      <th>Rej_Ind</th>\n",
       "      <th>accounts_now_delinquent</th>\n",
       "      <th>amount_funded_by_investors</th>\n",
       "      <th>amount_requested</th>\n",
       "      <th>application_date</th>\n",
       "      <th>application_expiration_date</th>\n",
       "      <th>city</th>\n",
       "      <th>code</th>\n",
       "      <th>collection_recovery_fee</th>\n",
       "      <th>credit_grade</th>\n",
       "      <th>...</th>\n",
       "      <th>revolving_credit_balance</th>\n",
       "      <th>revolving_line_utilization</th>\n",
       "      <th>risk_score</th>\n",
       "      <th>screen_name</th>\n",
       "      <th>state</th>\n",
       "      <th>status</th>\n",
       "      <th>total_amount_funded</th>\n",
       "      <th>total_credit_lines</th>\n",
       "      <th>zip_code</th>\n",
       "      <th>app_year</th>\n",
       "    </tr>\n",
       "  </thead>\n",
       "  <tbody>\n",
       "    <tr>\n",
       "      <th>11079383</th>\n",
       "      <td>1</td>\n",
       "      <td>NaN</td>\n",
       "      <td>NaN</td>\n",
       "      <td>1200.0</td>\n",
       "      <td>2016-12-31</td>\n",
       "      <td>NaN</td>\n",
       "      <td>NaN</td>\n",
       "      <td>NaN</td>\n",
       "      <td>NaN</td>\n",
       "      <td>NaN</td>\n",
       "      <td>...</td>\n",
       "      <td>NaN</td>\n",
       "      <td>NaN</td>\n",
       "      <td>686.0</td>\n",
       "      <td>NaN</td>\n",
       "      <td>CA</td>\n",
       "      <td>NaN</td>\n",
       "      <td>NaN</td>\n",
       "      <td>NaN</td>\n",
       "      <td>914xx</td>\n",
       "      <td>2016.0</td>\n",
       "    </tr>\n",
       "    <tr>\n",
       "      <th>11079384</th>\n",
       "      <td>1</td>\n",
       "      <td>NaN</td>\n",
       "      <td>NaN</td>\n",
       "      <td>25000.0</td>\n",
       "      <td>2016-12-31</td>\n",
       "      <td>NaN</td>\n",
       "      <td>NaN</td>\n",
       "      <td>NaN</td>\n",
       "      <td>NaN</td>\n",
       "      <td>NaN</td>\n",
       "      <td>...</td>\n",
       "      <td>NaN</td>\n",
       "      <td>NaN</td>\n",
       "      <td>NaN</td>\n",
       "      <td>NaN</td>\n",
       "      <td>NM</td>\n",
       "      <td>NaN</td>\n",
       "      <td>NaN</td>\n",
       "      <td>NaN</td>\n",
       "      <td>880xx</td>\n",
       "      <td>2016.0</td>\n",
       "    </tr>\n",
       "    <tr>\n",
       "      <th>11079385</th>\n",
       "      <td>1</td>\n",
       "      <td>NaN</td>\n",
       "      <td>NaN</td>\n",
       "      <td>15000.0</td>\n",
       "      <td>2016-12-31</td>\n",
       "      <td>NaN</td>\n",
       "      <td>NaN</td>\n",
       "      <td>NaN</td>\n",
       "      <td>NaN</td>\n",
       "      <td>NaN</td>\n",
       "      <td>...</td>\n",
       "      <td>NaN</td>\n",
       "      <td>NaN</td>\n",
       "      <td>684.0</td>\n",
       "      <td>NaN</td>\n",
       "      <td>NY</td>\n",
       "      <td>NaN</td>\n",
       "      <td>NaN</td>\n",
       "      <td>NaN</td>\n",
       "      <td>113xx</td>\n",
       "      <td>2016.0</td>\n",
       "    </tr>\n",
       "  </tbody>\n",
       "</table>\n",
       "<p>3 rows × 49 columns</p>\n",
       "</div>"
      ],
      "text/plain": [
       "          Rej_Ind  accounts_now_delinquent  amount_funded_by_investors  \\\n",
       "11079383        1                      NaN                         NaN   \n",
       "11079384        1                      NaN                         NaN   \n",
       "11079385        1                      NaN                         NaN   \n",
       "\n",
       "          amount_requested application_date application_expiration_date city  \\\n",
       "11079383            1200.0       2016-12-31                         NaN  NaN   \n",
       "11079384           25000.0       2016-12-31                         NaN  NaN   \n",
       "11079385           15000.0       2016-12-31                         NaN  NaN   \n",
       "\n",
       "          code  collection_recovery_fee credit_grade    ...     \\\n",
       "11079383   NaN                      NaN          NaN    ...      \n",
       "11079384   NaN                      NaN          NaN    ...      \n",
       "11079385   NaN                      NaN          NaN    ...      \n",
       "\n",
       "         revolving_credit_balance  revolving_line_utilization  risk_score  \\\n",
       "11079383                      NaN                         NaN       686.0   \n",
       "11079384                      NaN                         NaN         NaN   \n",
       "11079385                      NaN                         NaN       684.0   \n",
       "\n",
       "         screen_name state status total_amount_funded total_credit_lines  \\\n",
       "11079383         NaN    CA    NaN                 NaN                NaN   \n",
       "11079384         NaN    NM    NaN                 NaN                NaN   \n",
       "11079385         NaN    NY    NaN                 NaN                NaN   \n",
       "\n",
       "         zip_code  app_year  \n",
       "11079383    914xx    2016.0  \n",
       "11079384    880xx    2016.0  \n",
       "11079385    113xx    2016.0  \n",
       "\n",
       "[3 rows x 49 columns]"
      ]
     },
     "execution_count": 17,
     "metadata": {},
     "output_type": "execute_result"
    }
   ],
   "source": [
    "Full_data.tail(3)"
   ]
  },
  {
   "cell_type": "code",
   "execution_count": 18,
   "metadata": {
    "collapsed": false
   },
   "outputs": [
    {
     "data": {
      "text/plain": [
       "array([<matplotlib.axes._subplots.AxesSubplot object at 0x15c6bc6d0>,\n",
       "       <matplotlib.axes._subplots.AxesSubplot object at 0x10e79d510>], dtype=object)"
      ]
     },
     "execution_count": 18,
     "metadata": {},
     "output_type": "execute_result"
    },
    {
     "data": {
      "image/png": "[encoded data removed]",
      "text/plain": [
       "<matplotlib.figure.Figure at 0x15c6bcf50>"
      ]
     },
     "metadata": {},
     "output_type": "display_data"
    }
   ],
   "source": [
    "# Plot simple histogram of App Dates by Accept/Reject\n",
    "\n",
    "Full_data['app_year'].hist(by=Full_data['Rej_Ind'], sharey=True, sharex=True)\n"
   ]
  },
  {
   "cell_type": "code",
   "execution_count": 19,
   "metadata": {
    "collapsed": false
   },
   "outputs": [
    {
     "data": {
      "text/plain": [
       "count                  329520\n",
       "unique                   2488\n",
       "top       2014-04-15 00:00:00\n",
       "freq                     1478\n",
       "first     2007-05-25 00:00:00\n",
       "last      2014-04-30 00:00:00\n",
       "Name: application_date, dtype: object"
      ]
     },
     "execution_count": 19,
     "metadata": {},
     "output_type": "execute_result"
    }
   ],
   "source": [
    "AcceptData.application_date.describe()"
   ]
  },
  {
   "cell_type": "code",
   "execution_count": 20,
   "metadata": {
    "collapsed": false
   },
   "outputs": [
    {
     "data": {
      "text/plain": [
       "count                11079386\n",
       "unique                   3508\n",
       "top       2016-07-05 00:00:00\n",
       "freq                    31010\n",
       "first     2007-05-26 00:00:00\n",
       "last      2016-12-31 00:00:00\n",
       "Name: application_date, dtype: object"
      ]
     },
     "execution_count": 20,
     "metadata": {},
     "output_type": "execute_result"
    }
   ],
   "source": [
    "RejData.application_date.describe()"
   ]
  },
  {
   "cell_type": "code",
   "execution_count": 21,
   "metadata": {
    "collapsed": true
   },
   "outputs": [],
   "source": [
    "# The most recent booked application is in April 30, 2014\n",
    "# Since we are interested in default data we remove those accounts that have not properly aged\n",
    "\n",
    "# Keep accounts that have application date prior to May 2011 (Both accepts and rejects)\n",
    "# Remove accounts that were 60 month loans\n",
    "\n",
    "Full_data_slim = Full_data[(Full_data['application_date'] < '2011-05-01') & (Full_data['loan_length'] != '60 months' )]\n"
   ]
  },
  {
   "cell_type": "code",
   "execution_count": 22,
   "metadata": {
    "collapsed": false
   },
   "outputs": [
    {
     "name": "stdout",
     "output_type": "stream",
     "text": [
      "Loan Length Distribution:\n",
      "NaN          264414\n",
      "36 months     21109\n",
      "Name: loan_length, dtype: int64\n"
     ]
    }
   ],
   "source": [
    "print \"Loan Length Distribution:\\n\", Full_data_slim.loan_length.value_counts(dropna=False)"
   ]
  },
  {
   "cell_type": "code",
   "execution_count": 23,
   "metadata": {
    "collapsed": false
   },
   "outputs": [
    {
     "name": "stdout",
     "output_type": "stream",
     "text": [
      "Overall Reject Rate:  0.926069003198\n"
     ]
    }
   ],
   "source": [
    "print \"Overall Reject Rate: \", Full_data_slim.Rej_Ind.value_counts()[1] * 1.0 / Full_data_slim.shape[0]"
   ]
  },
  {
   "cell_type": "code",
   "execution_count": 24,
   "metadata": {
    "collapsed": false
   },
   "outputs": [
    {
     "data": {
      "text/plain": [
       "Index([u'loan_id', u'amount_requested', u'amount_funded_by_investors',\n",
       "       u'interest_rate', u'loan_length', u'application_date',\n",
       "       u'application_expiration_date', u'issued_date', u'credit_grade',\n",
       "       u'loan_title', u'loan_purpose', u'loan_description', u'monthly_payment',\n",
       "       u'status', u'total_amount_funded', u'debttoincome_ratio',\n",
       "       u'remaining_principal_funded_by_investors',\n",
       "       u'payments_to_date_funded_by_investors', u'remaining_principal',\n",
       "       u'payments_to_date', u'recoveries', u'collection_recovery_fee',\n",
       "       u'screen_name', u'city', u'state', u'home_ownership', u'monthly_income',\n",
       "       u'fico_range', u'earliest_credit_line', u'open_credit_lines',\n",
       "       u'total_credit_lines', u'revolving_credit_balance',\n",
       "       u'revolving_line_utilization', u'inquiries_in_the_last_6_months',\n",
       "       u'accounts_now_delinquent', u'delinquent_amount',\n",
       "       u'delinquencies_last_2_yrs', u'months_since_last_delinquency',\n",
       "       u'public_records_on_file', u'months_since_last_record', u'education',\n",
       "       u'employment_length', u'code', u'initial_listing_status',\n",
       "       u'policy_code', u'Rej_Ind'],\n",
       "      dtype='object')"
      ]
     },
     "execution_count": 24,
     "metadata": {},
     "output_type": "execute_result"
    }
   ],
   "source": [
    "AcceptData.columns\n"
   ]
  },
  {
   "cell_type": "code",
   "execution_count": 25,
   "metadata": {
    "collapsed": false
   },
   "outputs": [],
   "source": [
    "#############################################\n",
    "#############################################\n",
    "\n",
    "Keep = RejData.columns.tolist()\n",
    "Keep.append(\"fico_range\")\n",
    "Keep.append(\"status\")\n",
    "Keep.append(\"inquiries_in_the_last_6_months\")\n",
    "Keep.append(\"delinquencies_last_2_yrs\")\n",
    "Keep.append(\"revolving_line_utilization\")\n",
    "\n",
    "\n",
    "# Keep relevant columns\n",
    "Full_data_slim2 = Full_data_slim[Keep]"
   ]
  },
  {
   "cell_type": "code",
   "execution_count": 26,
   "metadata": {
    "collapsed": false
   },
   "outputs": [
    {
     "name": "stdout",
     "output_type": "stream",
     "text": [
      "(285523, 49)\n"
     ]
    },
    {
     "data": {
      "text/plain": [
       "NaN                                                                  264414\n",
       "Fully Paid                                                            16301\n",
       "Charged Off                                                            2041\n",
       "Does not meet the credit policy  Status: Fully Paid                    1786\n",
       "Does not meet the credit policy  Status: Charged Off                    647\n",
       "Current                                                                 264\n",
       "Late (31-120 days)                                                       22\n",
       "Default                                                                  21\n",
       "Performing Payment Plan                                                  16\n",
       "In Grace Period                                                           5\n",
       "Does not meet the credit policy  Status: Late (31-120 days)               2\n",
       "Does not meet the credit policy  Status: Performing Payment Plan          2\n",
       "Late (16-30 days)                                                         1\n",
       "Does not meet the credit policy  Status: Default                          1\n",
       "Name: status, dtype: int64"
      ]
     },
     "execution_count": 26,
     "metadata": {},
     "output_type": "execute_result"
    }
   ],
   "source": [
    "#print Full_data_slim.head(5)\n",
    "print Full_data_slim.shape\n",
    "\n",
    "Full_data_slim.status.value_counts(dropna=False)"
   ]
  },
  {
   "cell_type": "code",
   "execution_count": 27,
   "metadata": {
    "collapsed": false
   },
   "outputs": [
    {
     "name": "stderr",
     "output_type": "stream",
     "text": [
      "/Users/renkohkato/anaconda/lib/python2.7/site-packages/pandas/core/indexing.py:297: SettingWithCopyWarning: \n",
      "A value is trying to be set on a copy of a slice from a DataFrame.\n",
      "Try using .loc[row_indexer,col_indexer] = value instead\n",
      "\n",
      "See the caveats in the documentation: http://pandas.pydata.org/pandas-docs/stable/indexing.html#indexing-view-versus-copy\n",
      "  self.obj[key] = _infer_fill_value(value)\n",
      "/Users/renkohkato/anaconda/lib/python2.7/site-packages/pandas/core/indexing.py:477: SettingWithCopyWarning: \n",
      "A value is trying to be set on a copy of a slice from a DataFrame.\n",
      "Try using .loc[row_indexer,col_indexer] = value instead\n",
      "\n",
      "See the caveats in the documentation: http://pandas.pydata.org/pandas-docs/stable/indexing.html#indexing-view-versus-copy\n",
      "  self.obj[item] = s\n"
     ]
    }
   ],
   "source": [
    "#Full_data_slim2.dtypes\n",
    "\n",
    "# Extract bounds from the FICO variable\n",
    "#Full_data_slim2['fico_l'] = Full_data_slim2.fico_range.str[:3]\n",
    "\n",
    "Full_data_slim2.loc[:, 'fico_l'] = Full_data_slim2['fico_range'].apply(lambda x: None if x == 'None' else float(str(x)[:3]))\n",
    "Full_data_slim2.loc[:, 'fico_h'] = Full_data_slim2['fico_range'].apply(lambda x: None if x == 'None' else float(str(x)[-3:]))\n",
    "\n",
    "#df['Date'].apply(lambda x: int(str(x)[-4:]))\n",
    "#Full_data_slim2['fico_h'] = Full_data_slim2.fico_range.str[-3:]\n"
   ]
  },
  {
   "cell_type": "code",
   "execution_count": 28,
   "metadata": {
    "collapsed": false
   },
   "outputs": [
    {
     "name": "stderr",
     "output_type": "stream",
     "text": [
      "/Users/renkohkato/anaconda/lib/python2.7/site-packages/pandas/core/generic.py:2773: SettingWithCopyWarning: \n",
      "A value is trying to be set on a copy of a slice from a DataFrame.\n",
      "Try using .loc[row_indexer,col_indexer] = value instead\n",
      "\n",
      "See the caveats in the documentation: http://pandas.pydata.org/pandas-docs/stable/indexing.html#indexing-view-versus-copy\n",
      "  self[name] = value\n"
     ]
    }
   ],
   "source": [
    "# Compute the avg FICO score\n",
    "Full_data_slim2.loc[:, 'fico_avg'] = Full_data_slim2[['fico_l', 'fico_h']].mean(axis=1)\n",
    "\n",
    "# Get the final FICO score from the two columns\n",
    "Full_data_slim2.loc[:, \"FICO\"] = Full_data_slim2[[\"fico_avg\", \"risk_score\"]].max(axis=1)\n",
    "\n",
    "# Convert DTI from String to Float\n",
    "Full_data_slim2.debttoincome_ratio = pd.Series(Full_data_slim2.debttoincome_ratio).str.replace('%', '').astype(float)\n"
   ]
  },
  {
   "cell_type": "code",
   "execution_count": 29,
   "metadata": {
    "collapsed": false
   },
   "outputs": [
    {
     "data": {
      "text/plain": [
       "amount_requested                         float64\n",
       "application_date                  datetime64[ns]\n",
       "loan_title                                object\n",
       "risk_score                               float64\n",
       "debttoincome_ratio                       float64\n",
       "zip_code                                  object\n",
       "state                                     object\n",
       "employment_length                         object\n",
       "policy_code                              float64\n",
       "Rej_Ind                                    int64\n",
       "fico_range                                object\n",
       "status                                    object\n",
       "inquiries_in_the_last_6_months           float64\n",
       "delinquencies_last_2_yrs                 float64\n",
       "revolving_line_utilization                object\n",
       "fico_l                                   float64\n",
       "fico_h                                   float64\n",
       "fico_avg                                 float64\n",
       "FICO                                     float64\n",
       "dtype: object"
      ]
     },
     "execution_count": 29,
     "metadata": {},
     "output_type": "execute_result"
    }
   ],
   "source": [
    "Full_data_slim2.dtypes"
   ]
  },
  {
   "cell_type": "code",
   "execution_count": 30,
   "metadata": {
    "collapsed": false
   },
   "outputs": [
    {
     "data": {
      "text/plain": [
       "< 1 year     150770\n",
       "10+ years     27144\n",
       "2 years       21315\n",
       "1 year        20913\n",
       "3 years       16419\n",
       "4 years       12538\n",
       "5 years       10426\n",
       "6 years        7374\n",
       "7 years        5469\n",
       "8 years        5262\n",
       "9 years        4389\n",
       "n/a            3504\n",
       "Name: employment_length, dtype: int64"
      ]
     },
     "execution_count": 30,
     "metadata": {},
     "output_type": "execute_result"
    }
   ],
   "source": [
    "Full_data_slim2.employment_length.value_counts(dropna=False)"
   ]
  },
  {
   "cell_type": "code",
   "execution_count": 31,
   "metadata": {
    "collapsed": false
   },
   "outputs": [
    {
     "name": "stderr",
     "output_type": "stream",
     "text": [
      "/Users/renkohkato/anaconda/lib/python2.7/site-packages/pandas/core/frame.py:2834: SettingWithCopyWarning: \n",
      "A value is trying to be set on a copy of a slice from a DataFrame\n",
      "\n",
      "See the caveats in the documentation: http://pandas.pydata.org/pandas-docs/stable/indexing.html#indexing-view-versus-copy\n",
      "  **kwargs)\n"
     ]
    }
   ],
   "source": [
    "# rename DTI column\n",
    "Full_data_slim2.rename(columns = {'debttoincome_ratio':'dti'}, inplace = True)\n"
   ]
  },
  {
   "cell_type": "code",
   "execution_count": 32,
   "metadata": {
    "collapsed": false
   },
   "outputs": [],
   "source": [
    "# Need to Impute FICO score of 0 and NaN !!!\n",
    "#Full_data_slim2.FICO.value_counts(dropna=False)\n",
    "\n",
    "\n",
    "mapp_emp = {\n",
    "        \"10+ years\": 10,\n",
    "        \"9 years\": 9,\n",
    "        \"8 years\": 8,\n",
    "        \"7 years\": 7,\n",
    "        \"6 years\": 6,\n",
    "        \"5 years\": 5,\n",
    "        \"4 years\": 4,\n",
    "        \"3 years\": 3,\n",
    "        \"2 years\": 2,\n",
    "        \"1 year\": 1,\n",
    "        \"< 1 year\": 0,\n",
    "        \"n/a\": 0\n",
    "    }\n",
    "\n",
    "mapp_stat = {\n",
    "        \"Fully Paid\": 0,\n",
    "        \"Charged Off\": 1,\n",
    "        \"Does not meet the credit policy  Status: Fully Paid\": 0,\n",
    "        \"Does not meet the credit policy  Status: Charged Off\": 1,\n",
    "        \"Current\": 0,\n",
    "        \"Late (31-120 days)\": 1,\n",
    "        \"Default\": 1,\n",
    "        \"Performing Payment Plan\": 0,\n",
    "        \"In Grace Period\": 0,\n",
    "        \"Does not meet the credit policy  Status: Late (31-120 days)\": 1,\n",
    "        \"Does not meet the credit policy  Status: Performing Payment Plan\": 0,\n",
    "        \"n/a\": 0\n",
    "    }\n",
    "\n",
    "Full_data_slim2.loc[:,'emp_length_num'] = Full_data_slim2['employment_length'].map(mapp_emp)\n",
    "\n",
    "Full_data_slim2.loc[:,'Bad_Ind'] = Full_data_slim2['status'].map(mapp_stat)\n",
    "\n",
    "# Drop some unneeded Columns\n",
    "Full_data_slim2 = Full_data_slim2.drop(['fico_l','fico_h', 'fico_range', 'fico_avg', 'policy_code', 'risk_score', 'loan_title', 'zip_code', 'employment_length'], axis=1)\n",
    "\n"
   ]
  },
  {
   "cell_type": "code",
   "execution_count": 36,
   "metadata": {
    "collapsed": false
   },
   "outputs": [
    {
     "data": {
      "text/plain": [
       "<seaborn.axisgrid.FacetGrid at 0x11a4abed0>"
      ]
     },
     "execution_count": 36,
     "metadata": {},
     "output_type": "execute_result"
    },
    {
     "data": {
      "image/png": "[encoded data removed]",
      "text/plain": [
       "<matplotlib.figure.Figure at 0x11db9bfd0>"
      ]
     },
     "metadata": {},
     "output_type": "display_data"
    }
   ],
   "source": [
    "g = sns.FacetGrid(Full_data_slim2, hue='Rej_Ind', size=6)\n",
    "g.map(sns.distplot, \"FICO\")\n",
    "g.add_legend()"
   ]
  },
  {
   "cell_type": "code",
   "execution_count": null,
   "metadata": {
    "collapsed": true
   },
   "outputs": [],
   "source": [
    "# Clean FICO - with imputation\n",
    "Full_data_slim2['FICO'].replace(np.nan, 590,inplace=True)\n",
    "Full_data_slim2['FICO'].replace(0, 590,inplace=True)\n",
    "\n"
   ]
  },
  {
   "cell_type": "code",
   "execution_count": 45,
   "metadata": {
    "collapsed": false
   },
   "outputs": [
    {
     "data": {
      "text/html": [
       "<div>\n",
       "<table border=\"1\" class=\"dataframe\">\n",
       "  <thead>\n",
       "    <tr style=\"text-align: right;\">\n",
       "      <th>Bad_Ind</th>\n",
       "      <th>0.0</th>\n",
       "      <th>1.0</th>\n",
       "      <th>All</th>\n",
       "    </tr>\n",
       "    <tr>\n",
       "      <th>status</th>\n",
       "      <th></th>\n",
       "      <th></th>\n",
       "      <th></th>\n",
       "    </tr>\n",
       "  </thead>\n",
       "  <tbody>\n",
       "    <tr>\n",
       "      <th>Charged Off</th>\n",
       "      <td>0</td>\n",
       "      <td>2041</td>\n",
       "      <td>2041</td>\n",
       "    </tr>\n",
       "    <tr>\n",
       "      <th>Current</th>\n",
       "      <td>264</td>\n",
       "      <td>0</td>\n",
       "      <td>264</td>\n",
       "    </tr>\n",
       "    <tr>\n",
       "      <th>Default</th>\n",
       "      <td>0</td>\n",
       "      <td>21</td>\n",
       "      <td>21</td>\n",
       "    </tr>\n",
       "    <tr>\n",
       "      <th>Does not meet the credit policy  Status: Charged Off</th>\n",
       "      <td>0</td>\n",
       "      <td>647</td>\n",
       "      <td>647</td>\n",
       "    </tr>\n",
       "    <tr>\n",
       "      <th>Does not meet the credit policy  Status: Fully Paid</th>\n",
       "      <td>1786</td>\n",
       "      <td>0</td>\n",
       "      <td>1786</td>\n",
       "    </tr>\n",
       "    <tr>\n",
       "      <th>Does not meet the credit policy  Status: Late (31-120 days)</th>\n",
       "      <td>0</td>\n",
       "      <td>2</td>\n",
       "      <td>2</td>\n",
       "    </tr>\n",
       "    <tr>\n",
       "      <th>Fully Paid</th>\n",
       "      <td>16301</td>\n",
       "      <td>0</td>\n",
       "      <td>16301</td>\n",
       "    </tr>\n",
       "    <tr>\n",
       "      <th>In Grace Period</th>\n",
       "      <td>5</td>\n",
       "      <td>0</td>\n",
       "      <td>5</td>\n",
       "    </tr>\n",
       "    <tr>\n",
       "      <th>Late (31-120 days)</th>\n",
       "      <td>0</td>\n",
       "      <td>22</td>\n",
       "      <td>22</td>\n",
       "    </tr>\n",
       "    <tr>\n",
       "      <th>All</th>\n",
       "      <td>18356</td>\n",
       "      <td>2733</td>\n",
       "      <td>285523</td>\n",
       "    </tr>\n",
       "  </tbody>\n",
       "</table>\n",
       "</div>"
      ],
      "text/plain": [
       "Bad_Ind                                               0.0   1.0     All\n",
       "status                                                                 \n",
       "Charged Off                                             0  2041    2041\n",
       "Current                                               264     0     264\n",
       "Default                                                 0    21      21\n",
       "Does not meet the credit policy  Status: Charge...      0   647     647\n",
       "Does not meet the credit policy  Status: Fully ...   1786     0    1786\n",
       "Does not meet the credit policy  Status: Late (...      0     2       2\n",
       "Fully Paid                                          16301     0   16301\n",
       "In Grace Period                                         5     0       5\n",
       "Late (31-120 days)                                      0    22      22\n",
       "All                                                 18356  2733  285523"
      ]
     },
     "execution_count": 45,
     "metadata": {},
     "output_type": "execute_result"
    }
   ],
   "source": [
    "#Full_data_slim2.stat_clean.value_counts(dropna=False)\n",
    "\n",
    "CrossT = pd.crosstab(index=Full_data_slim2[\"status\"], \n",
    "                    columns=Full_data_slim2[\"Bad_Ind\"], margins=True, dropna=False)\n",
    "CrossT"
   ]
  },
  {
   "cell_type": "code",
   "execution_count": 65,
   "metadata": {
    "collapsed": false
   },
   "outputs": [
    {
     "data": {
      "text/html": [
       "<div>\n",
       "<table border=\"1\" class=\"dataframe\">\n",
       "  <thead>\n",
       "    <tr style=\"text-align: right;\">\n",
       "      <th></th>\n",
       "      <th>amount_requested</th>\n",
       "      <th>dti</th>\n",
       "      <th>inquiries_in_the_last_6_months</th>\n",
       "      <th>delinquencies_last_2_yrs</th>\n",
       "      <th>FICO</th>\n",
       "      <th>emp_length_num</th>\n",
       "      <th>Bad_Ind</th>\n",
       "    </tr>\n",
       "    <tr>\n",
       "      <th>Rej_Ind</th>\n",
       "      <th></th>\n",
       "      <th></th>\n",
       "      <th></th>\n",
       "      <th></th>\n",
       "      <th></th>\n",
       "      <th></th>\n",
       "      <th></th>\n",
       "    </tr>\n",
       "  </thead>\n",
       "  <tbody>\n",
       "    <tr>\n",
       "      <th>0</th>\n",
       "      <td>9568.171159</td>\n",
       "      <td>12.831805</td>\n",
       "      <td>1.249004</td>\n",
       "      <td>0.156546</td>\n",
       "      <td>714.176607</td>\n",
       "      <td>4.368326</td>\n",
       "      <td>0.129594</td>\n",
       "    </tr>\n",
       "    <tr>\n",
       "      <th>1</th>\n",
       "      <td>10867.651533</td>\n",
       "      <td>1836.738904</td>\n",
       "      <td>NaN</td>\n",
       "      <td>NaN</td>\n",
       "      <td>623.364372</td>\n",
       "      <td>2.111972</td>\n",
       "      <td>NaN</td>\n",
       "    </tr>\n",
       "  </tbody>\n",
       "</table>\n",
       "</div>"
      ],
      "text/plain": [
       "         amount_requested          dti  inquiries_in_the_last_6_months  \\\n",
       "Rej_Ind                                                                  \n",
       "0             9568.171159    12.831805                        1.249004   \n",
       "1            10867.651533  1836.738904                             NaN   \n",
       "\n",
       "         delinquencies_last_2_yrs        FICO  emp_length_num   Bad_Ind  \n",
       "Rej_Ind                                                                  \n",
       "0                        0.156546  714.176607        4.368326  0.129594  \n",
       "1                             NaN  623.364372        2.111972       NaN  "
      ]
     },
     "execution_count": 65,
     "metadata": {},
     "output_type": "execute_result"
    }
   ],
   "source": [
    "Full_data_slim2.groupby('Rej_Ind').mean()"
   ]
  },
  {
   "cell_type": "code",
   "execution_count": 66,
   "metadata": {
    "collapsed": false
   },
   "outputs": [
    {
     "data": {
      "text/plain": [
       "<seaborn.axisgrid.FacetGrid at 0x11d77ea50>"
      ]
     },
     "execution_count": 66,
     "metadata": {},
     "output_type": "execute_result"
    },
    {
     "data": {
      "image/png": "[encoded data removed]",
      "text/plain": [
       "<matplotlib.figure.Figure at 0x11de2f590>"
      ]
     },
     "metadata": {},
     "output_type": "display_data"
    }
   ],
   "source": []
  },
  {
   "cell_type": "code",
   "execution_count": 47,
   "metadata": {
    "collapsed": false
   },
   "outputs": [],
   "source": [
    "# Create train and holdout data\n",
    "# Train & Test\n",
    "\n",
    "keep_cols = ['FICO', 'dti', 'emp_length_num', 'Bad_Ind', 'Rej_Ind'] \n",
    "\n",
    "X = Full_data_slim2\n",
    "y = Full_data_slim2.Bad_Ind\n",
    "\n",
    "X_train, X_test, y_train, y_test = train_test_split(X, y, test_size=0.3, random_state=123)\n"
   ]
  },
  {
   "cell_type": "code",
   "execution_count": 60,
   "metadata": {
    "collapsed": false
   },
   "outputs": [],
   "source": [
    "# Filter data for Target Populated\n",
    "# Booked w/ Performance\n",
    "ModelDataAccept = X_train[(X_train['Bad_Ind'] >= 0) & (X_train['FICO'] >= 680)]\n",
    "\n",
    "# Masked Data - Simulate removing the scores\n",
    "ModelDataMask = X_train[(X_train['Bad_Ind'] >= 0) & (X_train['FICO'] < 680)]\n",
    "\n",
    "#ModelDataAccept.describe()"
   ]
  },
  {
   "cell_type": "code",
   "execution_count": 62,
   "metadata": {
    "collapsed": false
   },
   "outputs": [
    {
     "name": "stdout",
     "output_type": "stream",
     "text": [
      "count    11864.000000\n",
      "mean         0.110165\n",
      "std          0.313109\n",
      "min          0.000000\n",
      "25%          0.000000\n",
      "50%          0.000000\n",
      "75%          0.000000\n",
      "max          1.000000\n",
      "Name: Bad_Ind, dtype: float64\n",
      "\n",
      "count    2897.000000\n",
      "mean        0.207801\n",
      "std         0.405804\n",
      "min         0.000000\n",
      "25%         0.000000\n",
      "50%         0.000000\n",
      "75%         0.000000\n",
      "max         1.000000\n",
      "Name: Bad_Ind, dtype: float64\n"
     ]
    }
   ],
   "source": [
    "print ModelDataAccept.Bad_Ind.describe()\n",
    "print \"\\n\", ModelDataMask.Bad_Ind.describe()"
   ]
  },
  {
   "cell_type": "code",
   "execution_count": 663,
   "metadata": {
    "collapsed": false
   },
   "outputs": [
    {
     "name": "stdout",
     "output_type": "stream",
     "text": [
      "Full Data (285523, 9)\n",
      "Accept Data (14761, 5)\n",
      "Rej Data (185105, 5)\n"
     ]
    }
   ],
   "source": [
    "print \"Full Data\", Full_data_slim2.shape\n",
    "print \"Accept Data\", ModelDataAccept.shape\n",
    "print \"Rej Data\", ModelDataRej.shape\n",
    "\n",
    "#ModelDataRej.tail()\n",
    "#ModelDataRej.FICO.value_counts(dropna=False)"
   ]
  },
  {
   "cell_type": "code",
   "execution_count": 664,
   "metadata": {
    "collapsed": false
   },
   "outputs": [
    {
     "data": {
      "text/plain": [
       "count    14761.000000\n",
       "mean        12.815122\n",
       "std          6.777862\n",
       "min          0.000000\n",
       "25%          7.460000\n",
       "50%         12.850000\n",
       "75%         18.190000\n",
       "max         29.950000\n",
       "Name: dti, dtype: float64"
      ]
     },
     "execution_count": 664,
     "metadata": {},
     "output_type": "execute_result"
    }
   ],
   "source": [
    "# 'FICO', 'debttoincome_ratio', 'emp_length_num'\n",
    "#sns.plt.hist(ModelDataRej.debttoincome_ratio)\n",
    "\n",
    "ModelDataAccept.dti.describe()"
   ]
  },
  {
   "cell_type": "code",
   "execution_count": 665,
   "metadata": {
    "collapsed": false
   },
   "outputs": [
    {
     "data": {
      "text/plain": [
       "173169    25.61\n",
       "171367     1.11\n",
       "6921      80.18\n",
       "256760     8.21\n",
       "228233    16.93\n",
       "Name: dti, dtype: float64"
      ]
     },
     "execution_count": 665,
     "metadata": {},
     "output_type": "execute_result"
    }
   ],
   "source": [
    "ModelDataRej.dti.tail()"
   ]
  },
  {
   "cell_type": "code",
   "execution_count": 666,
   "metadata": {
    "collapsed": false
   },
   "outputs": [
    {
     "data": {
      "text/html": [
       "<div>\n",
       "<table border=\"1\" class=\"dataframe\">\n",
       "  <thead>\n",
       "    <tr style=\"text-align: right;\">\n",
       "      <th></th>\n",
       "      <th>FICO</th>\n",
       "      <th>dti</th>\n",
       "      <th>emp_length_num</th>\n",
       "      <th>Rej_Ind</th>\n",
       "    </tr>\n",
       "    <tr>\n",
       "      <th>Bad_Ind</th>\n",
       "      <th></th>\n",
       "      <th></th>\n",
       "      <th></th>\n",
       "      <th></th>\n",
       "    </tr>\n",
       "  </thead>\n",
       "  <tbody>\n",
       "    <tr>\n",
       "      <th>0.0</th>\n",
       "      <td>716.343604</td>\n",
       "      <td>12.727479</td>\n",
       "      <td>4.372004</td>\n",
       "      <td>0.0</td>\n",
       "    </tr>\n",
       "    <tr>\n",
       "      <th>1.0</th>\n",
       "      <td>699.254584</td>\n",
       "      <td>13.405160</td>\n",
       "      <td>4.254584</td>\n",
       "      <td>0.0</td>\n",
       "    </tr>\n",
       "  </tbody>\n",
       "</table>\n",
       "</div>"
      ],
      "text/plain": [
       "               FICO        dti  emp_length_num  Rej_Ind\n",
       "Bad_Ind                                                \n",
       "0.0      716.343604  12.727479        4.372004      0.0\n",
       "1.0      699.254584  13.405160        4.254584      0.0"
      ]
     },
     "execution_count": 666,
     "metadata": {},
     "output_type": "execute_result"
    }
   ],
   "source": [
    "#Variable Avg by Good/Bad\n",
    "ModelDataAccept.groupby('Bad_Ind').mean()\n"
   ]
  },
  {
   "cell_type": "code",
   "execution_count": 667,
   "metadata": {
    "collapsed": false
   },
   "outputs": [
    {
     "data": {
      "text/html": [
       "<div>\n",
       "<table border=\"1\" class=\"dataframe\">\n",
       "  <thead>\n",
       "    <tr style=\"text-align: right;\">\n",
       "      <th></th>\n",
       "      <th>FICO</th>\n",
       "      <th>dti</th>\n",
       "      <th>emp_length_num</th>\n",
       "      <th>Bad_Ind</th>\n",
       "      <th>Rej_Ind</th>\n",
       "    </tr>\n",
       "  </thead>\n",
       "  <tbody>\n",
       "    <tr>\n",
       "      <th>count</th>\n",
       "      <td>185105.000000</td>\n",
       "      <td>1.851050e+05</td>\n",
       "      <td>185105.000000</td>\n",
       "      <td>0.0</td>\n",
       "      <td>185105.000000</td>\n",
       "    </tr>\n",
       "    <tr>\n",
       "      <th>mean</th>\n",
       "      <td>623.414457</td>\n",
       "      <td>1.826362e+03</td>\n",
       "      <td>2.113941</td>\n",
       "      <td>NaN</td>\n",
       "      <td>0.999941</td>\n",
       "    </tr>\n",
       "    <tr>\n",
       "      <th>std</th>\n",
       "      <td>79.455332</td>\n",
       "      <td>2.420481e+04</td>\n",
       "      <td>3.259530</td>\n",
       "      <td>NaN</td>\n",
       "      <td>0.007709</td>\n",
       "    </tr>\n",
       "    <tr>\n",
       "      <th>min</th>\n",
       "      <td>363.000000</td>\n",
       "      <td>-1.000000e+00</td>\n",
       "      <td>0.000000</td>\n",
       "      <td>NaN</td>\n",
       "      <td>0.000000</td>\n",
       "    </tr>\n",
       "    <tr>\n",
       "      <th>25%</th>\n",
       "      <td>588.000000</td>\n",
       "      <td>3.230000e+00</td>\n",
       "      <td>0.000000</td>\n",
       "      <td>NaN</td>\n",
       "      <td>1.000000</td>\n",
       "    </tr>\n",
       "    <tr>\n",
       "      <th>50%</th>\n",
       "      <td>629.000000</td>\n",
       "      <td>1.566000e+01</td>\n",
       "      <td>0.000000</td>\n",
       "      <td>NaN</td>\n",
       "      <td>1.000000</td>\n",
       "    </tr>\n",
       "    <tr>\n",
       "      <th>75%</th>\n",
       "      <td>683.000000</td>\n",
       "      <td>3.048000e+01</td>\n",
       "      <td>3.000000</td>\n",
       "      <td>NaN</td>\n",
       "      <td>1.000000</td>\n",
       "    </tr>\n",
       "    <tr>\n",
       "      <th>max</th>\n",
       "      <td>849.000000</td>\n",
       "      <td>3.626400e+06</td>\n",
       "      <td>10.000000</td>\n",
       "      <td>NaN</td>\n",
       "      <td>1.000000</td>\n",
       "    </tr>\n",
       "  </tbody>\n",
       "</table>\n",
       "</div>"
      ],
      "text/plain": [
       "                FICO           dti  emp_length_num  Bad_Ind        Rej_Ind\n",
       "count  185105.000000  1.851050e+05   185105.000000      0.0  185105.000000\n",
       "mean      623.414457  1.826362e+03        2.113941      NaN       0.999941\n",
       "std        79.455332  2.420481e+04        3.259530      NaN       0.007709\n",
       "min       363.000000 -1.000000e+00        0.000000      NaN       0.000000\n",
       "25%       588.000000  3.230000e+00        0.000000      NaN       1.000000\n",
       "50%       629.000000  1.566000e+01        0.000000      NaN       1.000000\n",
       "75%       683.000000  3.048000e+01        3.000000      NaN       1.000000\n",
       "max       849.000000  3.626400e+06       10.000000      NaN       1.000000"
      ]
     },
     "execution_count": 667,
     "metadata": {},
     "output_type": "execute_result"
    }
   ],
   "source": [
    "ModelDataRej.describe()"
   ]
  },
  {
   "cell_type": "code",
   "execution_count": 668,
   "metadata": {
    "collapsed": false
   },
   "outputs": [
    {
     "data": {
      "text/plain": [
       "0.87067271865049789"
      ]
     },
     "execution_count": 668,
     "metadata": {},
     "output_type": "execute_result"
    }
   ],
   "source": [
    "# Good Rate for Booked Accounts\n",
    "ModelDataAccept.Bad_Ind.value_counts()[0] * 1.0 / ModelDataAccept.shape[0]"
   ]
  },
  {
   "cell_type": "code",
   "execution_count": 449,
   "metadata": {
    "collapsed": false
   },
   "outputs": [],
   "source": [
    "#outcome_pred = logreg.predict(X)\n",
    "#y_pred = np.where(outcome_pred_class_log >= 0.18, 1, 0)\n",
    "\n",
    "#print \"Model accuracy:\", metrics.accuracy_score(y, y_pred)\n",
    "#print \"Model ROC: \", metrics.classification_report(y, y_pred) "
   ]
  },
  {
   "cell_type": "code",
   "execution_count": 692,
   "metadata": {
    "collapsed": false
   },
   "outputs": [
    {
     "name": "stdout",
     "output_type": "stream",
     "text": [
      "[ 0.8706  0.8706  0.8706  0.8706  0.8709]\n",
      "10 Fold Cross Validation, Avg Score: 0.870672737884\n",
      "\n",
      " Parameters: \n",
      "[[-0.0066  0.0119 -0.002 ]]\n",
      "\n",
      " Avg. Predicted Default Prob: 0.871919213599\n"
     ]
    }
   ],
   "source": [
    "# Fit a logistic regression Model\n",
    "logreg = LogisticRegression(C=1e9)\n",
    "\n",
    "#, 'amount_requested'\n",
    "feature_cols = ['FICO', 'dti', 'emp_length_num']\n",
    "X_V1 = ModelDataAccept[feature_cols]\n",
    "y_V1 = ModelDataAccept.Bad_Ind\n",
    "\n",
    "logreg.fit(X_V1, y_V1)\n",
    "# store the predicted probabilities\n",
    "predicted_logreg = logreg.predict_proba(X_V1)[:, 1]\n",
    "\n",
    "# evaluate the model using 10-fold cross-validation\n",
    "scores = cross_val_score(logreg, X_V1, y_V1, scoring='accuracy', cv=5)\n",
    "\n",
    "print scores\n",
    "print \"10 Fold Cross Validation, Avg Score:\", scores.mean()\n",
    "\n",
    "logreg.fit(X_V1, y_V1)\n",
    "print \"\\n Parameters: \\n\", logreg.coef_\n",
    "\n",
    "\n",
    "print \"\\n Avg. Predicted Default Prob:\", 1 - logreg.predict_proba(X_V1)[:, 1].mean()"
   ]
  },
  {
   "cell_type": "code",
   "execution_count": 694,
   "metadata": {
    "collapsed": false
   },
   "outputs": [
    {
     "name": "stdout",
     "output_type": "stream",
     "text": [
      "10-fold accuracies:\n",
      "[ 0.8707  0.8707  0.8706  0.8706  0.8706  0.8706  0.8706  0.8706  0.8706\n",
      "  0.8712]\n",
      "Mean cv-accuracy: 0.870672751951\n"
     ]
    }
   ],
   "source": [
    "# Fitting Random Forest\n",
    "rf_model = RandomForestClassifier(max_depth=2, random_state=120, n_estimators = 50)\n",
    "\n",
    "rf_model.fit(X_V1, y_V1)\n",
    "predicted_probs_rf = rf_model.predict_proba(X_V1)[:, 1]\n",
    "\n",
    "# print \"Train accuracy: \", metrics.accuracy_score(y_V1, rf_model.predict(X_V1))\n",
    "\n",
    "#### Cross Validation\n",
    "cross_val_scores_RF = cross_val_score(rf_model, X_V1, y_V1, cv=10)\n",
    "print \"10-fold accuracies:\\n\", cross_val_scores_RF\n",
    "print \"Mean cv-accuracy:\", np.mean(cross_val_scores_RF)\n",
    "\n"
   ]
  },
  {
   "cell_type": "code",
   "execution_count": 695,
   "metadata": {
    "collapsed": false
   },
   "outputs": [
    {
     "name": "stdout",
     "output_type": "stream",
     "text": [
      "LR model AUC:  0.62738124177\n",
      "RF model AUC:  0.635742743637\n"
     ]
    }
   ],
   "source": [
    "print \"Logistic model AUC: \", metrics.roc_auc_score(y_V1, predicted_logreg)\n",
    "print \"Random Forest model AUC: \", metrics.roc_auc_score(y_V1, predicted_probs_rf)\n"
   ]
  },
  {
   "cell_type": "code",
   "execution_count": 696,
   "metadata": {
    "collapsed": false
   },
   "outputs": [
    {
     "name": "stdout",
     "output_type": "stream",
     "text": [
      "Avg. PD of NonBooked 0.254843995944\n",
      "Avg. PD of Booked 0.128080786401\n"
     ]
    }
   ],
   "source": [
    "# Score the NonBooked Accounts with Logistic Reg\n",
    "X_rej = ModelDataRej[feature_cols]\n",
    "\n",
    "print \"Avg. PD of NonBooked\", logreg.predict_proba(X_rej)[:, 1].mean()\n",
    "print \"Avg. PD of Booked\", logreg.predict_proba(X_V1)[:, 1].mean()"
   ]
  },
  {
   "cell_type": "code",
   "execution_count": 697,
   "metadata": {
    "collapsed": false
   },
   "outputs": [
    {
     "data": {
      "text/plain": [
       "(array([   58.,   208.,   298.,   480.,   602.,   742.,   847.,   937.,\n",
       "         1031.,  1152.,  1102.,  1196.,  1212.,  1186.,  1073.,   905.,\n",
       "          696.,   473.,   283.,   168.,    49.,    27.,    13.,     5.,\n",
       "            4.,     6.,     2.,     3.,     1.,     2.]),\n",
       " array([ 0.0563,  0.063 ,  0.0697,  0.0763,  0.083 ,  0.0897,  0.0964,\n",
       "         0.1031,  0.1097,  0.1164,  0.1231,  0.1298,  0.1365,  0.1431,\n",
       "         0.1498,  0.1565,  0.1632,  0.1699,  0.1765,  0.1832,  0.1899,\n",
       "         0.1966,  0.2033,  0.2099,  0.2166,  0.2233,  0.23  ,  0.2367,\n",
       "         0.2433,  0.25  ,  0.2567]),\n",
       " <a list of 30 Patch objects>)"
      ]
     },
     "execution_count": 697,
     "metadata": {},
     "output_type": "execute_result"
    },
    {
     "data": {
      "image/png": "[encoded data removed]",
      "text/plain": [
       "<matplotlib.figure.Figure at 0x13f3b2ad0>"
      ]
     },
     "metadata": {},
     "output_type": "display_data"
    }
   ],
   "source": [
    "# Histogram of Probabilities\n",
    "Rej_Pred = logreg.predict_proba(X_rej)[:, 1]\n",
    "Accept_Pred = logreg.predict_proba(X_V1)[:, 1]\n",
    "\n",
    "sns.plt.hist(Rej_Pred, bins=30)\n",
    "sns.plt.hist(Accept_Pred, bins=30)\n"
   ]
  },
  {
   "cell_type": "code",
   "execution_count": 700,
   "metadata": {
    "collapsed": false
   },
   "outputs": [
    {
     "data": {
      "text/plain": [
       "<matplotlib.text.Text at 0x13f3bb3d0>"
      ]
     },
     "execution_count": 700,
     "metadata": {},
     "output_type": "execute_result"
    },
    {
     "data": {
      "image/png": "[encoded data removed]",
      "text/plain": [
       "<matplotlib.figure.Figure at 0x139a69790>"
      ]
     },
     "metadata": {},
     "output_type": "display_data"
    }
   ],
   "source": [
    "# Append PD to Dataset. Note: Here we predict the PDs of the NonBooked\n",
    "ModelDataRej.loc[:,\"PD\"]    = logreg.predict_proba(X_rej)[:, 1]\n",
    "ModelDataAccept.loc[:,\"PD\"] = logreg.predict_proba(X_V1)[:, 1]\n",
    "\n",
    "\n",
    "# Plots by Diff Groups\n",
    "FICO_rej_grp = ModelDataRej.groupby(\"FICO\")\n",
    "FICO_Means_Rej = FICO_rej_grp[\"PD\"].agg(np.mean) #3  Mean of Soda Prices\n",
    "\n",
    "FICO_Means_Rej.plot(title=\"Avg PD by FICO (Rejects)\") #5\n",
    "sns.plt.ylabel(\"Avg PD\") #6\n"
   ]
  },
  {
   "cell_type": "code",
   "execution_count": 701,
   "metadata": {
    "collapsed": false
   },
   "outputs": [
    {
     "data": {
      "text/plain": [
       "(array([ 0.0382,  0.1236,  0.1907,  0.2337,  0.2351,  0.1405,  0.0339,\n",
       "         0.003 ,  0.0008,  0.0004]),\n",
       " array([ 0.0563,  0.0763,  0.0964,  0.1164,  0.1365,  0.1565,  0.1765,\n",
       "         0.1966,  0.2166,  0.2367,  0.2567]),\n",
       " <a list of 10 Patch objects>)"
      ]
     },
     "execution_count": 701,
     "metadata": {},
     "output_type": "execute_result"
    },
    {
     "data": {
      "image/png": "[encoded data removed]",
      "text/plain": [
       "<matplotlib.figure.Figure at 0x13d676850>"
      ]
     },
     "metadata": {},
     "output_type": "display_data"
    }
   ],
   "source": [
    "# http://stackoverflow.com/questions/3866520/plotting-histograms-whose-bar-heights-sum-to-1-in-matplotlib/16399202#16399202\n",
    "\n",
    "#ModelDataRej.hist(bins=20, weights=np.ones_like(ModelDataRej[ModelDataRej.columns[0]]) * 100. / len(ModelDataRej))\n",
    "weights_Rej = np.ones_like(ModelDataRej.PD)/len(ModelDataRej.PD)\n",
    "weights_Acc = np.ones_like(ModelDataAccept.PD)/len(ModelDataAccept.PD)\n",
    "\n",
    "sns.plt.hist(ModelDataRej.PD, weights=weights_Rej, bins=10)\n",
    "sns.plt.hist(ModelDataAccept.PD, weights=weights_Acc, bins=10)\n"
   ]
  },
  {
   "cell_type": "code",
   "execution_count": 703,
   "metadata": {
    "collapsed": false
   },
   "outputs": [
    {
     "data": {
      "text/plain": [
       "<matplotlib.text.Text at 0x13d676b90>"
      ]
     },
     "execution_count": 703,
     "metadata": {},
     "output_type": "execute_result"
    },
    {
     "data": {
      "image/png": "[encoded data removed]",
      "text/plain": [
       "<matplotlib.figure.Figure at 0x13cb80250>"
      ]
     },
     "metadata": {},
     "output_type": "display_data"
    }
   ],
   "source": [
    "\n",
    "# Plots by Diff Groups\n",
    "FICO_acc_grp = ModelDataAccept.groupby(\"dti\")\n",
    "FICO_Means_Acc = FICO_acc_grp[\"PD\"].agg(np.mean) #3  Mean of Soda Prices\n",
    "\n",
    "FICO_Means_Acc.plot(title=\"Avg PD by FICO (Booked)\") #5\n",
    "sns.plt.ylabel(\"Avg PD\") #6\n"
   ]
  },
  {
   "cell_type": "code",
   "execution_count": 705,
   "metadata": {
    "collapsed": false
   },
   "outputs": [],
   "source": [
    "# stack the DataFrames on top of each other\n",
    "# Assign Inferred Good/Bad for NonBooked Accounts. \n",
    "# For NonBooked use PD, for booked, copy Bad_Ind\n",
    "\n",
    "ModelDataRej.loc[:, 'Bad_Ind_Inf'] = ModelDataRej['PD'].apply(lambda x: 1 if x >= 0.29 else 0)\n",
    "ModelDataAccept.loc[:, 'Bad_Ind_Inf'] = ModelDataAccept['Bad_Ind']\n",
    "\n",
    "ModelFull_data = pd.concat([ModelDataAccept, ModelDataRej], axis=0)\n"
   ]
  },
  {
   "cell_type": "code",
   "execution_count": 708,
   "metadata": {
    "collapsed": false
   },
   "outputs": [
    {
     "name": "stdout",
     "output_type": "stream",
     "text": [
      "Reject Inferred Good/Bad: \n",
      "0    140397\n",
      "1     44708\n",
      "Name: Bad_Ind_Inf, dtype: int64\n",
      "\n",
      "Booked Good/Bad: \n",
      "0.0    12852\n",
      "1.0     1909\n",
      "Name: Bad_Ind, dtype: int64\n",
      "\n",
      "All Good/Bad: \n",
      "0.0    153249\n",
      "1.0     46617\n",
      "Name: Bad_Ind_Inf, dtype: int64\n",
      "\n",
      "Rej Inferred Bad Rate: 0.241527781529\n",
      "\n",
      "Bad Rate of Full Dataset: 0.233241271652\n"
     ]
    }
   ],
   "source": [
    "print \"Reject Inferred Good/Bad: \\n\",ModelDataRej.Bad_Ind_Inf.value_counts()\n",
    "print \"\\nBooked Good/Bad: \\n\", ModelDataAccept.Bad_Ind.value_counts()\n",
    "print \"\\nAll Good/Bad: \\n\", ModelFull_data.Bad_Ind_Inf.value_counts()\n",
    "print \"\\nRej Inferred Bad Rate:\", ModelDataRej.Bad_Ind_Inf.value_counts()[1] * 1.0 / ModelDataRej.shape[0]\n",
    "print \"\\nBad Rate of Full Dataset:\", ModelFull_data.Bad_Ind_Inf.value_counts()[1] * 1.0 / ModelFull_data.shape[0]"
   ]
  },
  {
   "cell_type": "code",
   "execution_count": 709,
   "metadata": {
    "collapsed": false
   },
   "outputs": [
    {
     "data": {
      "text/plain": [
       "<matplotlib.text.Text at 0x13db70bd0>"
      ]
     },
     "execution_count": 709,
     "metadata": {},
     "output_type": "execute_result"
    },
    {
     "data": {
      "image/png": "[encoded data removed]",
      "text/plain": [
       "<matplotlib.figure.Figure at 0x13d77ecd0>"
      ]
     },
     "metadata": {},
     "output_type": "display_data"
    }
   ],
   "source": [
    "# Plots by Diff Groups\n",
    "FICO_full_grp = ModelFull_data.groupby(\"FICO\")\n",
    "FICO_Means_full = FICO_full_grp[\"PD\"].agg(np.mean) #3  Mean of Soda Prices\n",
    "\n",
    "FICO_Means_full.plot(title=\"Avg PD by FICO (Booked + Inferred)\") #5\n",
    "sns.plt.ylabel(\"Avg PD\") #6\n"
   ]
  },
  {
   "cell_type": "code",
   "execution_count": 710,
   "metadata": {
    "collapsed": false
   },
   "outputs": [
    {
     "name": "stdout",
     "output_type": "stream",
     "text": [
      "[ 0.8971  0.9763  0.9092  0.9584  0.9722  0.9808  0.9797  0.9789  0.9847\n",
      "  0.9751]\n",
      "10 Fold Cross Validation, Avg Score: 0.961249381534\n",
      "\n",
      " Parameters: \n",
      "[[-0.0197  0.0503  0.0302]]\n",
      "\n",
      " Avg. Predicted Default Prob: 0.222152736768\n"
     ]
    }
   ],
   "source": [
    "# Fit a logistic regression Model on Full Data\n",
    "logreg_Full = LogisticRegression(C=1e9)\n",
    "\n",
    "#, 'amount_requested'\n",
    "feature_cols = ['FICO', 'dti', 'emp_length_num']\n",
    "X_full = ModelFull_data[feature_cols]\n",
    "y_full = ModelFull_data.Bad_Ind_Inf # Includes Inferred Good/Bad\n",
    "\n",
    "# store the predicted probabilities\n",
    "#outcome_pred_prob_log = logreg.predict_proba(X)[:, 1]# evaluate the model using 10-fold cross-validation\n",
    "scores_full = cross_val_score(LogisticRegression(), X_full, y_full, scoring='accuracy', cv=10)\n",
    "\n",
    "print scores_full\n",
    "print \"10 Fold Cross Validation, Avg Score:\", scores_full.mean()\n",
    "\n",
    "logreg_Full.fit(X_full, y_full)\n",
    "print \"\\n Parameters: \\n\", logreg_Full.coef_\n",
    "\n",
    "\n",
    "print \"\\n Avg. Predicted Default Prob:\", logreg_Full.predict_proba(X_full)[:, 1].mean()"
   ]
  },
  {
   "cell_type": "code",
   "execution_count": 717,
   "metadata": {
    "collapsed": false
   },
   "outputs": [
    {
     "data": {
      "text/html": [
       "<div>\n",
       "<table border=\"1\" class=\"dataframe\">\n",
       "  <thead>\n",
       "    <tr style=\"text-align: right;\">\n",
       "      <th></th>\n",
       "      <th>FICO</th>\n",
       "      <th>dti</th>\n",
       "      <th>emp_length_num</th>\n",
       "      <th>Bad_Ind</th>\n",
       "      <th>Rej_Ind</th>\n",
       "    </tr>\n",
       "  </thead>\n",
       "  <tbody>\n",
       "    <tr>\n",
       "      <th>count</th>\n",
       "      <td>85657.000000</td>\n",
       "      <td>8.565700e+04</td>\n",
       "      <td>85657.000000</td>\n",
       "      <td>6328.000000</td>\n",
       "      <td>85657.000000</td>\n",
       "    </tr>\n",
       "    <tr>\n",
       "      <th>mean</th>\n",
       "      <td>629.993614</td>\n",
       "      <td>1.723998e+03</td>\n",
       "      <td>2.276918</td>\n",
       "      <td>0.130215</td>\n",
       "      <td>0.926019</td>\n",
       "    </tr>\n",
       "    <tr>\n",
       "      <th>std</th>\n",
       "      <td>80.628879</td>\n",
       "      <td>2.391919e+04</td>\n",
       "      <td>3.331372</td>\n",
       "      <td>0.336566</td>\n",
       "      <td>0.261742</td>\n",
       "    </tr>\n",
       "    <tr>\n",
       "      <th>min</th>\n",
       "      <td>368.000000</td>\n",
       "      <td>-1.000000e+00</td>\n",
       "      <td>0.000000</td>\n",
       "      <td>0.000000</td>\n",
       "      <td>0.000000</td>\n",
       "    </tr>\n",
       "    <tr>\n",
       "      <th>25%</th>\n",
       "      <td>590.000000</td>\n",
       "      <td>3.700000e+00</td>\n",
       "      <td>0.000000</td>\n",
       "      <td>0.000000</td>\n",
       "      <td>1.000000</td>\n",
       "    </tr>\n",
       "    <tr>\n",
       "      <th>50%</th>\n",
       "      <td>639.000000</td>\n",
       "      <td>1.518000e+01</td>\n",
       "      <td>0.000000</td>\n",
       "      <td>0.000000</td>\n",
       "      <td>1.000000</td>\n",
       "    </tr>\n",
       "    <tr>\n",
       "      <th>75%</th>\n",
       "      <td>691.000000</td>\n",
       "      <td>2.923000e+01</td>\n",
       "      <td>4.000000</td>\n",
       "      <td>0.000000</td>\n",
       "      <td>1.000000</td>\n",
       "    </tr>\n",
       "    <tr>\n",
       "      <th>max</th>\n",
       "      <td>832.000000</td>\n",
       "      <td>3.967200e+06</td>\n",
       "      <td>10.000000</td>\n",
       "      <td>1.000000</td>\n",
       "      <td>1.000000</td>\n",
       "    </tr>\n",
       "  </tbody>\n",
       "</table>\n",
       "</div>"
      ],
      "text/plain": [
       "               FICO           dti  emp_length_num      Bad_Ind       Rej_Ind\n",
       "count  85657.000000  8.565700e+04    85657.000000  6328.000000  85657.000000\n",
       "mean     629.993614  1.723998e+03        2.276918     0.130215      0.926019\n",
       "std       80.628879  2.391919e+04        3.331372     0.336566      0.261742\n",
       "min      368.000000 -1.000000e+00        0.000000     0.000000      0.000000\n",
       "25%      590.000000  3.700000e+00        0.000000     0.000000      1.000000\n",
       "50%      639.000000  1.518000e+01        0.000000     0.000000      1.000000\n",
       "75%      691.000000  2.923000e+01        4.000000     0.000000      1.000000\n",
       "max      832.000000  3.967200e+06       10.000000     1.000000      1.000000"
      ]
     },
     "execution_count": 717,
     "metadata": {},
     "output_type": "execute_result"
    }
   ],
   "source": [
    "#logreg.predict_proba(X_test)[:, 1]\n",
    "X_test.describe()"
   ]
  },
  {
   "cell_type": "code",
   "execution_count": null,
   "metadata": {
    "collapsed": true
   },
   "outputs": [],
   "source": []
  },
  {
   "cell_type": "code",
   "execution_count": 720,
   "metadata": {
    "collapsed": false
   },
   "outputs": [
    {
     "name": "stdout",
     "output_type": "stream",
     "text": [
      "\n",
      "Test accuracy for Model V1:  0.624959980561\n",
      "\n",
      "Test accuracy for Model V2:  0.623558087499\n"
     ]
    }
   ],
   "source": [
    "# Predict test dataset - Booked Only\n",
    "Test_Booked = X_test[(X_test['Bad_Ind'] >= 0)]\n",
    "\n",
    "feature_cols = ['FICO', 'dti', 'emp_length_num']\n",
    "X_test_data = Test_Booked[feature_cols]\n",
    "Y_test_data = Test_Booked.Bad_Ind\n",
    "\n",
    "predicted_logreg      = logreg.predict_proba(X_test_data)[:, 1]\n",
    "predicted_logreg_full = logreg_Full.predict_proba(X_test_data)[:, 1]\n",
    "\n",
    "\n",
    "print \"\\nTest accuracy for Model V1: \", metrics.roc_auc_score(Y_test_data, predicted_logreg)\n",
    "print \"\\nTest accuracy for Model V2: \", metrics.roc_auc_score(Y_test_data, predicted_logreg_full)\n",
    "\n",
    "#print \"\\nTest accuracy for Model V1: \", metrics.accuracy_score(Y_test_data, logreg.predict(X_test_data))\n",
    "#print \"\\nTest accuracy for Model V2: \", metrics.accuracy_score(Y_test_data, logreg_Full.predict(X_test_data))\n",
    "\n",
    "\n",
    "# Append Predicted PD from Booked LogRegModel\n",
    "#X_test_data.loc[:,\"PD_Booked\"] = logreg.predict_proba(X_test_data)[:, 1]\n"
   ]
  },
  {
   "cell_type": "code",
   "execution_count": 712,
   "metadata": {
    "collapsed": false
   },
   "outputs": [
    {
     "data": {
      "text/html": [
       "<div>\n",
       "<table border=\"1\" class=\"dataframe\">\n",
       "  <thead>\n",
       "    <tr style=\"text-align: right;\">\n",
       "      <th></th>\n",
       "      <th>FICO</th>\n",
       "      <th>dti</th>\n",
       "      <th>emp_length_num</th>\n",
       "    </tr>\n",
       "  </thead>\n",
       "  <tbody>\n",
       "    <tr>\n",
       "      <th>82996</th>\n",
       "      <td>677.0</td>\n",
       "      <td>69.66</td>\n",
       "      <td>7</td>\n",
       "    </tr>\n",
       "    <tr>\n",
       "      <th>77313</th>\n",
       "      <td>604.0</td>\n",
       "      <td>23.72</td>\n",
       "      <td>1</td>\n",
       "    </tr>\n",
       "    <tr>\n",
       "      <th>45075</th>\n",
       "      <td>717.0</td>\n",
       "      <td>26.46</td>\n",
       "      <td>3</td>\n",
       "    </tr>\n",
       "    <tr>\n",
       "      <th>12719</th>\n",
       "      <td>733.0</td>\n",
       "      <td>270.70</td>\n",
       "      <td>0</td>\n",
       "    </tr>\n",
       "    <tr>\n",
       "      <th>11583</th>\n",
       "      <td>641.0</td>\n",
       "      <td>60.03</td>\n",
       "      <td>0</td>\n",
       "    </tr>\n",
       "    <tr>\n",
       "      <th>68158</th>\n",
       "      <td>646.0</td>\n",
       "      <td>24.74</td>\n",
       "      <td>3</td>\n",
       "    </tr>\n",
       "    <tr>\n",
       "      <th>153503</th>\n",
       "      <td>704.0</td>\n",
       "      <td>5.00</td>\n",
       "      <td>0</td>\n",
       "    </tr>\n",
       "    <tr>\n",
       "      <th>54928</th>\n",
       "      <td>743.0</td>\n",
       "      <td>37.71</td>\n",
       "      <td>10</td>\n",
       "    </tr>\n",
       "    <tr>\n",
       "      <th>169285</th>\n",
       "      <td>685.0</td>\n",
       "      <td>52.85</td>\n",
       "      <td>0</td>\n",
       "    </tr>\n",
       "    <tr>\n",
       "      <th>140377</th>\n",
       "      <td>590.0</td>\n",
       "      <td>-1.00</td>\n",
       "      <td>0</td>\n",
       "    </tr>\n",
       "    <tr>\n",
       "      <th>205963</th>\n",
       "      <td>590.0</td>\n",
       "      <td>0.00</td>\n",
       "      <td>0</td>\n",
       "    </tr>\n",
       "    <tr>\n",
       "      <th>81362</th>\n",
       "      <td>718.0</td>\n",
       "      <td>30.98</td>\n",
       "      <td>1</td>\n",
       "    </tr>\n",
       "    <tr>\n",
       "      <th>181043</th>\n",
       "      <td>507.0</td>\n",
       "      <td>22.33</td>\n",
       "      <td>0</td>\n",
       "    </tr>\n",
       "    <tr>\n",
       "      <th>70299</th>\n",
       "      <td>595.0</td>\n",
       "      <td>74.10</td>\n",
       "      <td>0</td>\n",
       "    </tr>\n",
       "    <tr>\n",
       "      <th>176377</th>\n",
       "      <td>756.0</td>\n",
       "      <td>6.92</td>\n",
       "      <td>6</td>\n",
       "    </tr>\n",
       "    <tr>\n",
       "      <th>23447</th>\n",
       "      <td>574.0</td>\n",
       "      <td>34.62</td>\n",
       "      <td>10</td>\n",
       "    </tr>\n",
       "    <tr>\n",
       "      <th>45741</th>\n",
       "      <td>595.0</td>\n",
       "      <td>36.57</td>\n",
       "      <td>2</td>\n",
       "    </tr>\n",
       "    <tr>\n",
       "      <th>134783</th>\n",
       "      <td>631.0</td>\n",
       "      <td>4.53</td>\n",
       "      <td>0</td>\n",
       "    </tr>\n",
       "    <tr>\n",
       "      <th>13368</th>\n",
       "      <td>667.0</td>\n",
       "      <td>23.49</td>\n",
       "      <td>6</td>\n",
       "    </tr>\n",
       "    <tr>\n",
       "      <th>28890</th>\n",
       "      <td>497.0</td>\n",
       "      <td>23.18</td>\n",
       "      <td>1</td>\n",
       "    </tr>\n",
       "    <tr>\n",
       "      <th>262405</th>\n",
       "      <td>660.0</td>\n",
       "      <td>74.40</td>\n",
       "      <td>0</td>\n",
       "    </tr>\n",
       "    <tr>\n",
       "      <th>261988</th>\n",
       "      <td>590.0</td>\n",
       "      <td>-1.00</td>\n",
       "      <td>2</td>\n",
       "    </tr>\n",
       "    <tr>\n",
       "      <th>108307</th>\n",
       "      <td>673.0</td>\n",
       "      <td>0.00</td>\n",
       "      <td>2</td>\n",
       "    </tr>\n",
       "    <tr>\n",
       "      <th>151953</th>\n",
       "      <td>590.0</td>\n",
       "      <td>46.71</td>\n",
       "      <td>5</td>\n",
       "    </tr>\n",
       "    <tr>\n",
       "      <th>199330</th>\n",
       "      <td>594.0</td>\n",
       "      <td>23.20</td>\n",
       "      <td>0</td>\n",
       "    </tr>\n",
       "    <tr>\n",
       "      <th>167700</th>\n",
       "      <td>704.0</td>\n",
       "      <td>28.59</td>\n",
       "      <td>0</td>\n",
       "    </tr>\n",
       "    <tr>\n",
       "      <th>182629</th>\n",
       "      <td>742.0</td>\n",
       "      <td>4.83</td>\n",
       "      <td>10</td>\n",
       "    </tr>\n",
       "    <tr>\n",
       "      <th>82082</th>\n",
       "      <td>669.0</td>\n",
       "      <td>27.91</td>\n",
       "      <td>2</td>\n",
       "    </tr>\n",
       "    <tr>\n",
       "      <th>135409</th>\n",
       "      <td>666.0</td>\n",
       "      <td>29.00</td>\n",
       "      <td>0</td>\n",
       "    </tr>\n",
       "    <tr>\n",
       "      <th>3231</th>\n",
       "      <td>692.0</td>\n",
       "      <td>14.20</td>\n",
       "      <td>1</td>\n",
       "    </tr>\n",
       "    <tr>\n",
       "      <th>...</th>\n",
       "      <td>...</td>\n",
       "      <td>...</td>\n",
       "      <td>...</td>\n",
       "    </tr>\n",
       "    <tr>\n",
       "      <th>246476</th>\n",
       "      <td>590.0</td>\n",
       "      <td>0.00</td>\n",
       "      <td>0</td>\n",
       "    </tr>\n",
       "    <tr>\n",
       "      <th>77724</th>\n",
       "      <td>552.0</td>\n",
       "      <td>45.60</td>\n",
       "      <td>1</td>\n",
       "    </tr>\n",
       "    <tr>\n",
       "      <th>262509</th>\n",
       "      <td>626.0</td>\n",
       "      <td>24.86</td>\n",
       "      <td>0</td>\n",
       "    </tr>\n",
       "    <tr>\n",
       "      <th>191762</th>\n",
       "      <td>683.0</td>\n",
       "      <td>39.73</td>\n",
       "      <td>0</td>\n",
       "    </tr>\n",
       "    <tr>\n",
       "      <th>227589</th>\n",
       "      <td>536.0</td>\n",
       "      <td>15.84</td>\n",
       "      <td>10</td>\n",
       "    </tr>\n",
       "    <tr>\n",
       "      <th>149624</th>\n",
       "      <td>590.0</td>\n",
       "      <td>-1.00</td>\n",
       "      <td>2</td>\n",
       "    </tr>\n",
       "    <tr>\n",
       "      <th>7765</th>\n",
       "      <td>742.0</td>\n",
       "      <td>15.12</td>\n",
       "      <td>9</td>\n",
       "    </tr>\n",
       "    <tr>\n",
       "      <th>201500</th>\n",
       "      <td>639.0</td>\n",
       "      <td>23.39</td>\n",
       "      <td>0</td>\n",
       "    </tr>\n",
       "    <tr>\n",
       "      <th>33001</th>\n",
       "      <td>482.0</td>\n",
       "      <td>26.07</td>\n",
       "      <td>4</td>\n",
       "    </tr>\n",
       "    <tr>\n",
       "      <th>61004</th>\n",
       "      <td>590.0</td>\n",
       "      <td>0.00</td>\n",
       "      <td>0</td>\n",
       "    </tr>\n",
       "    <tr>\n",
       "      <th>70356</th>\n",
       "      <td>693.0</td>\n",
       "      <td>30.63</td>\n",
       "      <td>4</td>\n",
       "    </tr>\n",
       "    <tr>\n",
       "      <th>240309</th>\n",
       "      <td>684.0</td>\n",
       "      <td>20.46</td>\n",
       "      <td>0</td>\n",
       "    </tr>\n",
       "    <tr>\n",
       "      <th>152418</th>\n",
       "      <td>655.0</td>\n",
       "      <td>36.20</td>\n",
       "      <td>0</td>\n",
       "    </tr>\n",
       "    <tr>\n",
       "      <th>34746</th>\n",
       "      <td>746.0</td>\n",
       "      <td>4.83</td>\n",
       "      <td>4</td>\n",
       "    </tr>\n",
       "    <tr>\n",
       "      <th>16102</th>\n",
       "      <td>653.0</td>\n",
       "      <td>5.00</td>\n",
       "      <td>0</td>\n",
       "    </tr>\n",
       "    <tr>\n",
       "      <th>328211</th>\n",
       "      <td>697.0</td>\n",
       "      <td>13.54</td>\n",
       "      <td>10</td>\n",
       "    </tr>\n",
       "    <tr>\n",
       "      <th>58749</th>\n",
       "      <td>711.0</td>\n",
       "      <td>30.35</td>\n",
       "      <td>4</td>\n",
       "    </tr>\n",
       "    <tr>\n",
       "      <th>2815</th>\n",
       "      <td>624.0</td>\n",
       "      <td>32.63</td>\n",
       "      <td>6</td>\n",
       "    </tr>\n",
       "    <tr>\n",
       "      <th>35029</th>\n",
       "      <td>709.0</td>\n",
       "      <td>39.19</td>\n",
       "      <td>7</td>\n",
       "    </tr>\n",
       "    <tr>\n",
       "      <th>202129</th>\n",
       "      <td>769.0</td>\n",
       "      <td>0.14</td>\n",
       "      <td>0</td>\n",
       "    </tr>\n",
       "    <tr>\n",
       "      <th>143608</th>\n",
       "      <td>628.0</td>\n",
       "      <td>15.41</td>\n",
       "      <td>6</td>\n",
       "    </tr>\n",
       "    <tr>\n",
       "      <th>187155</th>\n",
       "      <td>762.0</td>\n",
       "      <td>27.11</td>\n",
       "      <td>0</td>\n",
       "    </tr>\n",
       "    <tr>\n",
       "      <th>157561</th>\n",
       "      <td>590.0</td>\n",
       "      <td>0.93</td>\n",
       "      <td>0</td>\n",
       "    </tr>\n",
       "    <tr>\n",
       "      <th>173323</th>\n",
       "      <td>506.0</td>\n",
       "      <td>8.72</td>\n",
       "      <td>0</td>\n",
       "    </tr>\n",
       "    <tr>\n",
       "      <th>54120</th>\n",
       "      <td>517.0</td>\n",
       "      <td>63.94</td>\n",
       "      <td>3</td>\n",
       "    </tr>\n",
       "    <tr>\n",
       "      <th>51404</th>\n",
       "      <td>514.0</td>\n",
       "      <td>21.64</td>\n",
       "      <td>7</td>\n",
       "    </tr>\n",
       "    <tr>\n",
       "      <th>76061</th>\n",
       "      <td>426.0</td>\n",
       "      <td>21.28</td>\n",
       "      <td>0</td>\n",
       "    </tr>\n",
       "    <tr>\n",
       "      <th>116869</th>\n",
       "      <td>499.0</td>\n",
       "      <td>12.79</td>\n",
       "      <td>0</td>\n",
       "    </tr>\n",
       "    <tr>\n",
       "      <th>248218</th>\n",
       "      <td>688.0</td>\n",
       "      <td>26.29</td>\n",
       "      <td>0</td>\n",
       "    </tr>\n",
       "    <tr>\n",
       "      <th>260467</th>\n",
       "      <td>670.0</td>\n",
       "      <td>31.82</td>\n",
       "      <td>0</td>\n",
       "    </tr>\n",
       "  </tbody>\n",
       "</table>\n",
       "<p>85657 rows × 3 columns</p>\n",
       "</div>"
      ],
      "text/plain": [
       "         FICO     dti  emp_length_num\n",
       "82996   677.0   69.66               7\n",
       "77313   604.0   23.72               1\n",
       "45075   717.0   26.46               3\n",
       "12719   733.0  270.70               0\n",
       "11583   641.0   60.03               0\n",
       "68158   646.0   24.74               3\n",
       "153503  704.0    5.00               0\n",
       "54928   743.0   37.71              10\n",
       "169285  685.0   52.85               0\n",
       "140377  590.0   -1.00               0\n",
       "205963  590.0    0.00               0\n",
       "81362   718.0   30.98               1\n",
       "181043  507.0   22.33               0\n",
       "70299   595.0   74.10               0\n",
       "176377  756.0    6.92               6\n",
       "23447   574.0   34.62              10\n",
       "45741   595.0   36.57               2\n",
       "134783  631.0    4.53               0\n",
       "13368   667.0   23.49               6\n",
       "28890   497.0   23.18               1\n",
       "262405  660.0   74.40               0\n",
       "261988  590.0   -1.00               2\n",
       "108307  673.0    0.00               2\n",
       "151953  590.0   46.71               5\n",
       "199330  594.0   23.20               0\n",
       "167700  704.0   28.59               0\n",
       "182629  742.0    4.83              10\n",
       "82082   669.0   27.91               2\n",
       "135409  666.0   29.00               0\n",
       "3231    692.0   14.20               1\n",
       "...       ...     ...             ...\n",
       "246476  590.0    0.00               0\n",
       "77724   552.0   45.60               1\n",
       "262509  626.0   24.86               0\n",
       "191762  683.0   39.73               0\n",
       "227589  536.0   15.84              10\n",
       "149624  590.0   -1.00               2\n",
       "7765    742.0   15.12               9\n",
       "201500  639.0   23.39               0\n",
       "33001   482.0   26.07               4\n",
       "61004   590.0    0.00               0\n",
       "70356   693.0   30.63               4\n",
       "240309  684.0   20.46               0\n",
       "152418  655.0   36.20               0\n",
       "34746   746.0    4.83               4\n",
       "16102   653.0    5.00               0\n",
       "328211  697.0   13.54              10\n",
       "58749   711.0   30.35               4\n",
       "2815    624.0   32.63               6\n",
       "35029   709.0   39.19               7\n",
       "202129  769.0    0.14               0\n",
       "143608  628.0   15.41               6\n",
       "187155  762.0   27.11               0\n",
       "157561  590.0    0.93               0\n",
       "173323  506.0    8.72               0\n",
       "54120   517.0   63.94               3\n",
       "51404   514.0   21.64               7\n",
       "76061   426.0   21.28               0\n",
       "116869  499.0   12.79               0\n",
       "248218  688.0   26.29               0\n",
       "260467  670.0   31.82               0\n",
       "\n",
       "[85657 rows x 3 columns]"
      ]
     },
     "execution_count": 712,
     "metadata": {},
     "output_type": "execute_result"
    }
   ],
   "source": [
    "X_test_final"
   ]
  },
  {
   "cell_type": "code",
   "execution_count": null,
   "metadata": {
    "collapsed": true
   },
   "outputs": [],
   "source": []
  }
 ],
 "metadata": {
  "kernelspec": {
   "display_name": "Python 2",
   "language": "python",
   "name": "python2"
  },
  "language_info": {
   "codemirror_mode": {
    "name": "ipython",
    "version": 2
   },
   "file_extension": ".py",
   "mimetype": "text/x-python",
   "name": "python",
   "nbconvert_exporter": "python",
   "pygments_lexer": "ipython2",
   "version": "2.7.13"
  }
 },
 "nbformat": 4,
 "nbformat_minor": 2
}
